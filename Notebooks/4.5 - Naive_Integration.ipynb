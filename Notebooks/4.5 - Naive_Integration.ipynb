{
 "cells": [
  {
   "attachments": {},
   "cell_type": "markdown",
   "metadata": {},
   "source": [
    "## Create a Naive Numerical Integration program using basic Calculus Knowledge"
   ]
  },
  {
   "attachments": {},
   "cell_type": "markdown",
   "metadata": {},
   "source": [
    "In Basic calculus we learn about the key idea behind Integration. And, we would implement this idea to create our own numerical integrator. <br/>\n",
    "\n",
    "First a quick brush up for the key idea; \n",
    "\n",
    "<img title=\"Integration\" alt=\"Alt text\" src=\"https://upload.wikimedia.org/wikipedia/commons/2/2a/Riemann_sum_convergence.png\">\n",
    "\n",
    "\n",
    "- Image Credit: Wikipedia (https://en.wikipedia.org/wiki/Riemann_sum)\n",
    "\n",
    "We need to find the area of the curve from point a to b. Hence, we would have to sum over all the areas of rectangles which is created as we divide the area in \"thin\" rectangles. The width of the rectangle is know, and so is the height. We know the area of each rectangle and hence the only job left is to sum over all such rectangles. "
   ]
  },
  {
   "attachments": {},
   "cell_type": "markdown",
   "metadata": {},
   "source": [
    "Tasks for you:\n",
    "1) Check if the result you get after integration is anywhere close to the original/intended Integral\n",
    "- Check this website for comparing your answer: https://planetcalc.com/5494/\n",
    "\n",
    "2) Check, what happens if you decrease the width of the rectangles\n",
    "\n",
    "<br/>\n",
    "\n",
    "- Optional task (Do it after you learn how to plot) <br/>\n",
    "3) Plot the error vs width of rectangle , and analyse the graph along with scattered points"
   ]
  },
  {
   "cell_type": "code",
   "execution_count": 1,
   "metadata": {},
   "outputs": [
    {
     "data": {
      "text/plain": [
       "my_fun (generic function with 1 method)"
      ]
     },
     "metadata": {},
     "output_type": "display_data"
    }
   ],
   "source": [
    "#\n",
    "function my_fun(x)\n",
    "    return x^2;\n",
    "end"
   ]
  },
  {
   "cell_type": "code",
   "execution_count": 15,
   "metadata": {},
   "outputs": [
    {
     "name": "stdout",
     "output_type": "stream",
     "text": [
      "Integral between -1 and 1 = 0.6686700019999994"
     ]
    }
   ],
   "source": [
    "summ = 0;\n",
    "x_start = -1;\n",
    "x_end = 1;\n",
    "pointss = 1000;\n",
    "dx = (x_end - x_start)/pointss;\n",
    "\n",
    "for i in x_start:dx:x_end\n",
    "    # print(i);\n",
    "    pointt = i + dx/2\n",
    "    summ += my_fun(pointt)*dx;\n",
    "end\n",
    "print(\"Integral between $x_start and $x_end = $summ\");"
   ]
  },
  {
   "attachments": {},
   "cell_type": "markdown",
   "metadata": {},
   "source": [
    "<details>\n",
    "<summary>Click this to get Hints for the task.</summary>\n",
    "\n",
    "- Initialize the sum or integral of the function as;\n",
    "\n",
    "```julia\n",
    "S = 0\n",
    "```\n",
    "\n",
    "- Define the dx or h or the width of the rectangle;\n",
    "```julia\n",
    "h = 10^-3 #for example\n",
    "```\n",
    "\n",
    "- Define the initial and final position of the integral;\n",
    "```julia\n",
    "x_i = 1\n",
    "x_f = 3\n",
    "```\n",
    "\n",
    "- Define the number of such rectangles you want to sum over. This will depend on initial and final position and also on h.\n",
    "\n",
    "- Now, sum over all the areas of rectangles with for loop;\n",
    "```julia\n",
    "for i = 1:N\n",
    "    ... #add all the rectangle's area\n",
    "end\n",
    "```\n",
    "\n",
    "- Check your answer from the given website. \n",
    "\n",
    "\n",
    "</details>\n"
   ]
  },
  {
   "cell_type": "code",
   "execution_count": null,
   "metadata": {},
   "outputs": [],
   "source": []
  }
 ],
 "metadata": {
  "kernelspec": {
   "display_name": "Julia 1.8.5",
   "language": "julia",
   "name": "julia-1.8"
  },
  "language_info": {
   "file_extension": ".jl",
   "mimetype": "application/julia",
   "name": "julia",
   "version": "1.8.5"
  },
  "orig_nbformat": 4
 },
 "nbformat": 4,
 "nbformat_minor": 2
}
