{
 "cells": [
  {
   "attachments": {},
   "cell_type": "markdown",
   "metadata": {},
   "source": [
    "# Final Task\n",
    "\n",
    "### Create a Naive Numerical Integration program using basic Calculus Knowledge"
   ]
  },
  {
   "attachments": {},
   "cell_type": "markdown",
   "metadata": {},
   "source": [
    "In Basic calculus we learn about the key idea behind Integration. And, we would implement this idea to create our own numerical integrator. <br/>\n",
    "\n",
    "First a quick brush up for the key idea; \n",
    "\n",
    "<img title=\"Integration\" alt=\"Alt text\" src=\"https://upload.wikimedia.org/wikipedia/commons/2/2a/Riemann_sum_convergence.png\">\n",
    "\n",
    "\n",
    "- Image Credit: Wikipedia (https://en.wikipedia.org/wiki/Riemann_sum)\n",
    "\n",
    "We need to find the area of the curve from point a to b. Hence, we would have to sum over all the areas of rectangles which is created as we divide the area in \"thin\" rectangles. The width of the rectangle is know, and so is the height. We know the area of each rectangle and hence the only job left is to sum over all such rectangles. "
   ]
  },
  {
   "attachments": {},
   "cell_type": "markdown",
   "metadata": {},
   "source": [
    "Tasks for you:\n",
    "1) Check if the result you get after integration is anywhere close to the original/intended Integral\n",
    "2) Check, what happens if you decrease the width of the rectangles\n",
    "3) Plot the error vs width of rectangle , and analyse the graph along with scattered points"
   ]
  },
  {
   "cell_type": "code",
   "execution_count": 1,
   "metadata": {},
   "outputs": [
    {
     "data": {
      "text/plain": [
       "func (generic function with 1 method)"
      ]
     },
     "metadata": {},
     "output_type": "display_data"
    }
   ],
   "source": [
    "function func(x)\n",
    "    return x^(1/x)\n",
    "end"
   ]
  },
  {
   "cell_type": "code",
   "execution_count": null,
   "metadata": {},
   "outputs": [],
   "source": [
    "function Integrate()\n",
    "    ...\n",
    "end"
   ]
  }
 ],
 "metadata": {
  "kernelspec": {
   "display_name": "Julia 1.8.5",
   "language": "julia",
   "name": "julia-1.8"
  },
  "language_info": {
   "file_extension": ".jl",
   "mimetype": "application/julia",
   "name": "julia",
   "version": "1.8.5"
  },
  "orig_nbformat": 4
 },
 "nbformat": 4,
 "nbformat_minor": 2
}
