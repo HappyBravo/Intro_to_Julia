{
 "cells": [
  {
   "attachments": {},
   "cell_type": "markdown",
   "metadata": {},
   "source": [
    "#### First function, directly copied from python and translated to julia"
   ]
  },
  {
   "cell_type": "code",
   "execution_count": 7,
   "metadata": {},
   "outputs": [
    {
     "name": "stdout",
     "output_type": "stream",
     "text": [
      "238.363645 seconds (4.82 G allocations: 98.116 GiB, 20.23% gc time)\n",
      "(664579,)"
     ]
    }
   ],
   "source": [
    "lower = 1\n",
    "upper = 10^7\n",
    "\n",
    "primes = []\n",
    "\n",
    "@time for num=lower:upper\n",
    "    if num > 1\n",
    "        n = 0\n",
    "        for i=2:floor(Int, sqrt(num))\n",
    "            \n",
    "            if (num % i) == 0\n",
    "                n += 1\n",
    "                break\n",
    "            end\n",
    "        end\n",
    "        if n == 0\n",
    "            push!(primes,num)\n",
    "        end\n",
    "    end \n",
    "end\n",
    "\n",
    "print(size(primes))\n",
    "\n",
    "#238.363645 seconds (4.82 G allocations: 98.116 GiB, 20.23% gc time)\n",
    "#(664579,)"
   ]
  },
  {
   "attachments": {},
   "cell_type": "markdown",
   "metadata": {},
   "source": [
    "#### Enclose the above given loop in a function. This drastically changes the performance "
   ]
  },
  {
   "cell_type": "code",
   "execution_count": 42,
   "metadata": {},
   "outputs": [
    {
     "name": "stdout",
     "output_type": "stream",
     "text": [
      "  0.222669 seconds (78.41 k allocations: 3.024 MiB)\n"
     ]
    },
    {
     "data": {
      "text/plain": [
       "78498-element Vector{Any}:\n",
       "      2\n",
       "      3\n",
       "      5\n",
       "      7\n",
       "     11\n",
       "     13\n",
       "     17\n",
       "     19\n",
       "     23\n",
       "     29\n",
       "      ⋮\n",
       " 999883\n",
       " 999907\n",
       " 999917\n",
       " 999931\n",
       " 999953\n",
       " 999959\n",
       " 999961\n",
       " 999979\n",
       " 999983"
      ]
     },
     "metadata": {},
     "output_type": "display_data"
    }
   ],
   "source": [
    "function primes_find()\n",
    "    lower = 1\n",
    "    upper = 10^6\n",
    "\n",
    "    primes = []\n",
    "\n",
    "\n",
    "\n",
    "    for num=lower:upper\n",
    "        if num > 1\n",
    "            n = 0\n",
    "            for i=2:floor(Int, sqrt(num))\n",
    "                \n",
    "                if (num % i) == 0\n",
    "                    n += 1\n",
    "                    break\n",
    "                end\n",
    "            end\n",
    "            if n == 0\n",
    "                push!(primes,num)\n",
    "            end\n",
    "        end \n",
    "    end\n",
    "\n",
    "    return primes\n",
    "end\n",
    "\n",
    "@time primes_find()\n",
    "\n",
    "# This time also includes the time of printing/returning the array to the screen\n",
    "#4.697426 seconds (664.50 k allocations: 19.921 MiB, 1.32% gc time) #for 10^7\n",
    "#45.065760 seconds (3.00 M allocations: 82.961 MiB, 0.13% gc time) #for 5*10^7\n",
    "\n",
    "#664579-element Vector{Any}:\n"
   ]
  },
  {
   "attachments": {},
   "cell_type": "markdown",
   "metadata": {},
   "source": [
    "#### Let's now change the way our function looks a bit. Bit more cleaner"
   ]
  },
  {
   "cell_type": "code",
   "execution_count": 3,
   "metadata": {},
   "outputs": [
    {
     "data": {
      "text/plain": [
       "prime_check (generic function with 1 method)"
      ]
     },
     "metadata": {},
     "output_type": "display_data"
    }
   ],
   "source": [
    "function prime_check(num)\n",
    "    if num > 1\n",
    "        for i=2:floor(Int, sqrt(num))\n",
    "            if (num % i) == 0\n",
    "                return false\n",
    "            end\n",
    "        end\n",
    "        return true    \n",
    "    end \n",
    "end"
   ]
  },
  {
   "cell_type": "code",
   "execution_count": 10,
   "metadata": {},
   "outputs": [
    {
     "name": "stdout",
     "output_type": "stream",
     "text": [
      "false true"
     ]
    }
   ],
   "source": [
    "print(prime_check(4),\" \",prime_check(13)) # It works!"
   ]
  },
  {
   "cell_type": "code",
   "execution_count": 29,
   "metadata": {},
   "outputs": [
    {
     "name": "stdout",
     "output_type": "stream",
     "text": [
      "  4.768161 seconds (664.50 k allocations: 19.921 MiB, 0.62% gc time)\n"
     ]
    }
   ],
   "source": [
    "function list_primes(lower,upper)\n",
    "    primes = []\n",
    "    for i=lower:upper\n",
    "        if prime_check(i) == true\n",
    "            push!(primes,i)\n",
    "        end\n",
    "    end\n",
    "    #return primes\n",
    "end\n",
    "\n",
    "@time list_primes(1,10^7)\n",
    "\n",
    "# Oh damn...\n",
    "#4.639027 seconds (664.50 k allocations: 19.921 MiB) #10^7\n",
    "#664579-element Vector{Any}:"
   ]
  },
  {
   "cell_type": "code",
   "execution_count": 18,
   "metadata": {},
   "outputs": [
    {
     "data": {
      "text/plain": [
       "8-element Vector{Float64}:\n",
       "  4.0e-6\n",
       "  4.0e-6\n",
       "  3.3e-5\n",
       "  0.000501\n",
       "  0.009267\n",
       "  0.193072\n",
       "  4.650086\n",
       " 45.06576"
      ]
     },
     "metadata": {},
     "output_type": "display_data"
    }
   ],
   "source": [
    "num = [10^i for i=1:7]\n",
    "push!(num,5*10^7)\n",
    "#time = [@time list_primes(1,i) for i in num]\n",
    "time = [0.000004,0.000004, 0.000033 ,0.000501 ,0.009267 ,0.193072,4.650086,45.065760]  "
   ]
  },
  {
   "cell_type": "code",
   "execution_count": 14,
   "metadata": {},
   "outputs": [],
   "source": [
    "using Plots"
   ]
  },
  {
   "cell_type": "code",
   "execution_count": 22,
   "metadata": {},
   "outputs": [
    {
     "data": {
      "image/png": "[encoded data removed]",
      "image/svg+xml": "<?xml version=\"1.0\" encoding=\"utf-8\"?>\n<svg xmlns=\"http://www.w3.org/2000/svg\" xmlns:xlink=\"http://www.w3.org/1999/xlink\" width=\"1000\" height=\"500\" viewBox=\"0 0 4000 2000\">\n<defs>\n  <clipPath id=\"clip900\">\n    <rect x=\"0\" y=\"0\" width=\"4000\" height=\"2000\"/>\n  </clipPath>\n</defs>\n<path clip-path=\"url(#clip900)\" d=\"\nM0 2000 L4000 2000 L4000 0 L0 0  Z\n  \" fill=\"#ffffff\" fill-rule=\"evenodd\" fill-opacity=\"1\"/>\n<defs>\n  <clipPath id=\"clip901\">\n    <rect x=\"800\" y=\"0\" width=\"2801\" height=\"2000\"/>\n  </clipPath>\n</defs>\n<path clip-path=\"url(#clip900)\" d=\"\nM157.853 1881.88 L3952.76 1881.88 L3952.76 47.2441 L157.853 47.2441  Z\n  \" fill=\"#ffffff\" fill-rule=\"evenodd\" fill-opacity=\"1\"/>\n<defs>\n  <clipPath id=\"clip902\">\n    <rect x=\"157\" y=\"47\" width=\"3796\" height=\"1836\"/>\n  </clipPath>\n</defs>\n<polyline clip-path=\"url(#clip902)\" style=\"stroke:#000000; stroke-linecap:round; stroke-linejoin:round; stroke-width:2; stroke-opacity:0.1; fill:none\" points=\"\n  265.255,1881.88 265.255,47.2441 \n  \"/>\n<polyline clip-path=\"url(#clip902)\" style=\"stroke:#000000; stroke-linecap:round; stroke-linejoin:round; stroke-width:2; stroke-opacity:0.1; fill:none\" points=\"\n  981.275,1881.88 981.275,47.2441 \n  \"/>\n<polyline clip-path=\"url(#clip902)\" style=\"stroke:#000000; stroke-linecap:round; stroke-linejoin:round; stroke-width:2; stroke-opacity:0.1; fill:none\" points=\"\n  1697.29,1881.88 1697.29,47.2441 \n  \"/>\n<polyline clip-path=\"url(#clip902)\" style=\"stroke:#000000; stroke-linecap:round; stroke-linejoin:round; stroke-width:2; stroke-opacity:0.1; fill:none\" points=\"\n  2413.31,1881.88 2413.31,47.2441 \n  \"/>\n<polyline clip-path=\"url(#clip902)\" style=\"stroke:#000000; stroke-linecap:round; stroke-linejoin:round; stroke-width:2; stroke-opacity:0.1; fill:none\" points=\"\n  3129.33,1881.88 3129.33,47.2441 \n  \"/>\n<polyline clip-path=\"url(#clip902)\" style=\"stroke:#000000; stroke-linecap:round; stroke-linejoin:round; stroke-width:2; stroke-opacity:0.1; fill:none\" points=\"\n  3845.35,1881.88 3845.35,47.2441 \n  \"/>\n<polyline clip-path=\"url(#clip900)\" style=\"stroke:#000000; stroke-linecap:round; stroke-linejoin:round; stroke-width:4; stroke-opacity:1; fill:none\" points=\"\n  157.853,1881.88 3952.76,1881.88 \n  \"/>\n<polyline clip-path=\"url(#clip900)\" style=\"stroke:#000000; stroke-linecap:round; stroke-linejoin:round; stroke-width:4; stroke-opacity:1; fill:none\" points=\"\n  265.255,1881.88 265.255,1862.98 \n  \"/>\n<polyline clip-path=\"url(#clip900)\" style=\"stroke:#000000; stroke-linecap:round; stroke-linejoin:round; stroke-width:4; stroke-opacity:1; fill:none\" points=\"\n  981.275,1881.88 981.275,1862.98 \n  \"/>\n<polyline clip-path=\"url(#clip900)\" style=\"stroke:#000000; stroke-linecap:round; stroke-linejoin:round; stroke-width:4; stroke-opacity:1; fill:none\" points=\"\n  1697.29,1881.88 1697.29,1862.98 \n  \"/>\n<polyline clip-path=\"url(#clip900)\" style=\"stroke:#000000; stroke-linecap:round; stroke-linejoin:round; stroke-width:4; stroke-opacity:1; fill:none\" points=\"\n  2413.31,1881.88 2413.31,1862.98 \n  \"/>\n<polyline clip-path=\"url(#clip900)\" style=\"stroke:#000000; stroke-linecap:round; stroke-linejoin:round; stroke-width:4; stroke-opacity:1; fill:none\" points=\"\n  3129.33,1881.88 3129.33,1862.98 \n  \"/>\n<polyline clip-path=\"url(#clip900)\" style=\"stroke:#000000; stroke-linecap:round; stroke-linejoin:round; stroke-width:4; stroke-opacity:1; fill:none\" points=\"\n  3845.35,1881.88 3845.35,1862.98 \n  \"/>\n<path clip-path=\"url(#clip900)\" d=\"M265.255 1925.59 Q261.644 1925.59 259.815 1929.16 Q258.01 1932.7 258.01 1939.83 Q258.01 1946.94 259.815 1950.5 Q261.644 1954.04 265.255 1954.04 Q268.889 1954.04 270.695 1950.5 Q272.524 1946.94 272.524 1939.83 Q272.524 1932.7 270.695 1929.16 Q268.889 1925.59 265.255 1925.59 M265.255 1921.89 Q271.065 1921.89 274.121 1926.5 Q277.2 1931.08 277.2 1939.83 Q277.2 1948.56 274.121 1953.16 Q271.065 1957.75 265.255 1957.75 Q259.445 1957.75 256.366 1953.16 Q253.311 1948.56 253.311 1939.83 Q253.311 1931.08 256.366 1926.5 Q259.445 1921.89 265.255 1921.89 Z\" fill=\"#000000\" fill-rule=\"evenodd\" fill-opacity=\"1\" /><path clip-path=\"url(#clip900)\" d=\"M889.377 1968.8 L897.016 1968.8 L897.016 1942.43 L888.706 1944.1 L888.706 1939.84 L896.97 1938.18 L901.646 1938.18 L901.646 1968.8 L909.284 1968.8 L909.284 1972.74 L889.377 1972.74 L889.377 1968.8 Z\" fill=\"#000000\" fill-rule=\"evenodd\" fill-opacity=\"1\" /><path clip-path=\"url(#clip900)\" d=\"M918.729 1966.86 L923.613 1966.86 L923.613 1972.74 L918.729 1972.74 L918.729 1966.86 Z\" fill=\"#000000\" fill-rule=\"evenodd\" fill-opacity=\"1\" /><path clip-path=\"url(#clip900)\" d=\"M943.798 1941.25 Q940.187 1941.25 938.358 1944.82 Q936.553 1948.36 936.553 1955.49 Q936.553 1962.6 938.358 1966.16 Q940.187 1969.7 943.798 1969.7 Q947.432 1969.7 949.238 1966.16 Q951.067 1962.6 951.067 1955.49 Q951.067 1948.36 949.238 1944.82 Q947.432 1941.25 943.798 1941.25 M943.798 1937.55 Q949.608 1937.55 952.664 1942.16 Q955.742 1946.74 955.742 1955.49 Q955.742 1964.22 952.664 1968.82 Q949.608 1973.41 943.798 1973.41 Q937.988 1973.41 934.909 1968.82 Q931.854 1964.22 931.854 1955.49 Q931.854 1946.74 934.909 1942.16 Q937.988 1937.55 943.798 1937.55 Z\" fill=\"#000000\" fill-rule=\"evenodd\" fill-opacity=\"1\" /><path clip-path=\"url(#clip900)\" d=\"M992.131 1947.27 L981.552 1957.9 L992.131 1968.48 L989.377 1971.28 L978.752 1960.65 L968.127 1971.28 L965.395 1968.48 L975.951 1957.9 L965.395 1947.27 L968.127 1944.47 L978.752 1955.1 L989.377 1944.47 L992.131 1947.27 Z\" fill=\"#000000\" fill-rule=\"evenodd\" fill-opacity=\"1\" /><path clip-path=\"url(#clip900)\" d=\"M1004.49 1968.8 L1012.13 1968.8 L1012.13 1942.43 L1003.82 1944.1 L1003.82 1939.84 L1012.08 1938.18 L1016.76 1938.18 L1016.76 1968.8 L1024.4 1968.8 L1024.4 1972.74 L1004.49 1972.74 L1004.49 1968.8 Z\" fill=\"#000000\" fill-rule=\"evenodd\" fill-opacity=\"1\" /><path clip-path=\"url(#clip900)\" d=\"M1043.84 1941.25 Q1040.23 1941.25 1038.4 1944.82 Q1036.6 1948.36 1036.6 1955.49 Q1036.6 1962.6 1038.4 1966.16 Q1040.23 1969.7 1043.84 1969.7 Q1047.48 1969.7 1049.28 1966.16 Q1051.11 1962.6 1051.11 1955.49 Q1051.11 1948.36 1049.28 1944.82 Q1047.48 1941.25 1043.84 1941.25 M1043.84 1937.55 Q1049.65 1937.55 1052.71 1942.16 Q1055.79 1946.74 1055.79 1955.49 Q1055.79 1964.22 1052.71 1968.82 Q1049.65 1973.41 1043.84 1973.41 Q1038.03 1973.41 1034.95 1968.82 Q1031.9 1964.22 1031.9 1955.49 Q1031.9 1946.74 1034.95 1942.16 Q1038.03 1937.55 1043.84 1937.55 Z\" fill=\"#000000\" fill-rule=\"evenodd\" fill-opacity=\"1\" /><path clip-path=\"url(#clip900)\" d=\"M1055.79 1917.25 L1073.84 1917.25 L1073.84 1918.86 L1063.65 1945.33 L1059.68 1945.33 L1069.27 1920.44 L1055.79 1920.44 L1055.79 1917.25 Z\" fill=\"#000000\" fill-rule=\"evenodd\" fill-opacity=\"1\" /><path clip-path=\"url(#clip900)\" d=\"M1609.48 1968.8 L1625.8 1968.8 L1625.8 1972.74 L1603.86 1972.74 L1603.86 1968.8 Q1606.52 1966.05 1611.1 1961.42 Q1615.71 1956.76 1616.89 1955.42 Q1619.13 1952.9 1620.01 1951.16 Q1620.92 1949.4 1620.92 1947.71 Q1620.92 1944.96 1618.97 1943.22 Q1617.05 1941.49 1613.95 1941.49 Q1611.75 1941.49 1609.3 1942.25 Q1606.87 1943.01 1604.09 1944.56 L1604.09 1939.84 Q1606.91 1938.71 1609.37 1938.13 Q1611.82 1937.55 1613.86 1937.55 Q1619.23 1937.55 1622.42 1940.24 Q1625.62 1942.92 1625.62 1947.41 Q1625.62 1949.54 1624.81 1951.46 Q1624.02 1953.36 1621.91 1955.95 Q1621.33 1956.62 1618.23 1959.84 Q1615.13 1963.04 1609.48 1968.8 Z\" fill=\"#000000\" fill-rule=\"evenodd\" fill-opacity=\"1\" /><path clip-path=\"url(#clip900)\" d=\"M1635.62 1966.86 L1640.5 1966.86 L1640.5 1972.74 L1635.62 1972.74 L1635.62 1966.86 Z\" fill=\"#000000\" fill-rule=\"evenodd\" fill-opacity=\"1\" /><path clip-path=\"url(#clip900)\" d=\"M1660.69 1941.25 Q1657.07 1941.25 1655.25 1944.82 Q1653.44 1948.36 1653.44 1955.49 Q1653.44 1962.6 1655.25 1966.16 Q1657.07 1969.7 1660.69 1969.7 Q1664.32 1969.7 1666.13 1966.16 Q1667.95 1962.6 1667.95 1955.49 Q1667.95 1948.36 1666.13 1944.82 Q1664.32 1941.25 1660.69 1941.25 M1660.69 1937.55 Q1666.5 1937.55 1669.55 1942.16 Q1672.63 1946.74 1672.63 1955.49 Q1672.63 1964.22 1669.55 1968.82 Q1666.5 1973.41 1660.69 1973.41 Q1654.88 1973.41 1651.8 1968.82 Q1648.74 1964.22 1648.74 1955.49 Q1648.74 1946.74 1651.8 1942.16 Q1654.88 1937.55 1660.69 1937.55 Z\" fill=\"#000000\" fill-rule=\"evenodd\" fill-opacity=\"1\" /><path clip-path=\"url(#clip900)\" d=\"M1709.02 1947.27 L1698.44 1957.9 L1709.02 1968.48 L1706.26 1971.28 L1695.64 1960.65 L1685.01 1971.28 L1682.28 1968.48 L1692.84 1957.9 L1682.28 1947.27 L1685.01 1944.47 L1695.64 1955.1 L1706.26 1944.47 L1709.02 1947.27 Z\" fill=\"#000000\" fill-rule=\"evenodd\" fill-opacity=\"1\" /><path clip-path=\"url(#clip900)\" d=\"M1721.38 1968.8 L1729.02 1968.8 L1729.02 1942.43 L1720.71 1944.1 L1720.71 1939.84 L1728.97 1938.18 L1733.65 1938.18 L1733.65 1968.8 L1741.29 1968.8 L1741.29 1972.74 L1721.38 1972.74 L1721.38 1968.8 Z\" fill=\"#000000\" fill-rule=\"evenodd\" fill-opacity=\"1\" /><path clip-path=\"url(#clip900)\" d=\"M1760.73 1941.25 Q1757.12 1941.25 1755.29 1944.82 Q1753.49 1948.36 1753.49 1955.49 Q1753.49 1962.6 1755.29 1966.16 Q1757.12 1969.7 1760.73 1969.7 Q1764.37 1969.7 1766.17 1966.16 Q1768 1962.6 1768 1955.49 Q1768 1948.36 1766.17 1944.82 Q1764.37 1941.25 1760.73 1941.25 M1760.73 1937.55 Q1766.54 1937.55 1769.6 1942.16 Q1772.68 1946.74 1772.68 1955.49 Q1772.68 1964.22 1769.6 1968.82 Q1766.54 1973.41 1760.73 1973.41 Q1754.92 1973.41 1751.84 1968.82 Q1748.79 1964.22 1748.79 1955.49 Q1748.79 1946.74 1751.84 1942.16 Q1754.92 1937.55 1760.73 1937.55 Z\" fill=\"#000000\" fill-rule=\"evenodd\" fill-opacity=\"1\" /><path clip-path=\"url(#clip900)\" d=\"M1772.68 1917.25 L1790.73 1917.25 L1790.73 1918.86 L1780.54 1945.33 L1776.57 1945.33 L1786.16 1920.44 L1772.68 1920.44 L1772.68 1917.25 Z\" fill=\"#000000\" fill-rule=\"evenodd\" fill-opacity=\"1\" /><path clip-path=\"url(#clip900)\" d=\"M2335.57 1954.1 Q2338.93 1954.82 2340.8 1957.09 Q2342.7 1959.36 2342.7 1962.69 Q2342.7 1967.8 2339.18 1970.61 Q2335.66 1973.41 2329.18 1973.41 Q2327.01 1973.41 2324.69 1972.97 Q2322.4 1972.55 2319.95 1971.69 L2319.95 1967.18 Q2321.89 1968.31 2324.21 1968.89 Q2326.52 1969.47 2329.04 1969.47 Q2333.44 1969.47 2335.73 1967.74 Q2338.05 1966 2338.05 1962.69 Q2338.05 1959.63 2335.9 1957.92 Q2333.77 1956.18 2329.95 1956.18 L2325.92 1956.18 L2325.92 1952.34 L2330.13 1952.34 Q2333.58 1952.34 2335.41 1950.98 Q2337.24 1949.59 2337.24 1946.99 Q2337.24 1944.33 2335.34 1942.92 Q2333.46 1941.49 2329.95 1941.49 Q2328.02 1941.49 2325.83 1941.9 Q2323.63 1942.32 2320.99 1943.2 L2320.99 1939.03 Q2323.65 1938.29 2325.96 1937.92 Q2328.3 1937.55 2330.36 1937.55 Q2335.69 1937.55 2338.79 1939.98 Q2341.89 1942.39 2341.89 1946.51 Q2341.89 1949.38 2340.25 1951.37 Q2338.6 1953.34 2335.57 1954.1 Z\" fill=\"#000000\" fill-rule=\"evenodd\" fill-opacity=\"1\" /><path clip-path=\"url(#clip900)\" d=\"M2351.57 1966.86 L2356.45 1966.86 L2356.45 1972.74 L2351.57 1972.74 L2351.57 1966.86 Z\" fill=\"#000000\" fill-rule=\"evenodd\" fill-opacity=\"1\" /><path clip-path=\"url(#clip900)\" d=\"M2376.64 1941.25 Q2373.02 1941.25 2371.2 1944.82 Q2369.39 1948.36 2369.39 1955.49 Q2369.39 1962.6 2371.2 1966.16 Q2373.02 1969.7 2376.64 1969.7 Q2380.27 1969.7 2382.08 1966.16 Q2383.9 1962.6 2383.9 1955.49 Q2383.9 1948.36 2382.08 1944.82 Q2380.27 1941.25 2376.64 1941.25 M2376.64 1937.55 Q2382.45 1937.55 2385.5 1942.16 Q2388.58 1946.74 2388.58 1955.49 Q2388.58 1964.22 2385.5 1968.82 Q2382.45 1973.41 2376.64 1973.41 Q2370.83 1973.41 2367.75 1968.82 Q2364.69 1964.22 2364.69 1955.49 Q2364.69 1946.74 2367.75 1942.16 Q2370.83 1937.55 2376.64 1937.55 Z\" fill=\"#000000\" fill-rule=\"evenodd\" fill-opacity=\"1\" /><path clip-path=\"url(#clip900)\" d=\"M2424.97 1947.27 L2414.39 1957.9 L2424.97 1968.48 L2422.21 1971.28 L2411.59 1960.65 L2400.96 1971.28 L2398.23 1968.48 L2408.79 1957.9 L2398.23 1947.27 L2400.96 1944.47 L2411.59 1955.1 L2422.21 1944.47 L2424.97 1947.27 Z\" fill=\"#000000\" fill-rule=\"evenodd\" fill-opacity=\"1\" /><path clip-path=\"url(#clip900)\" d=\"M2437.33 1968.8 L2444.97 1968.8 L2444.97 1942.43 L2436.66 1944.1 L2436.66 1939.84 L2444.92 1938.18 L2449.6 1938.18 L2449.6 1968.8 L2457.24 1968.8 L2457.24 1972.74 L2437.33 1972.74 L2437.33 1968.8 Z\" fill=\"#000000\" fill-rule=\"evenodd\" fill-opacity=\"1\" /><path clip-path=\"url(#clip900)\" d=\"M2476.68 1941.25 Q2473.07 1941.25 2471.24 1944.82 Q2469.44 1948.36 2469.44 1955.49 Q2469.44 1962.6 2471.24 1966.16 Q2473.07 1969.7 2476.68 1969.7 Q2480.32 1969.7 2482.12 1966.16 Q2483.95 1962.6 2483.95 1955.49 Q2483.95 1948.36 2482.12 1944.82 Q2480.32 1941.25 2476.68 1941.25 M2476.68 1937.55 Q2482.49 1937.55 2485.55 1942.16 Q2488.63 1946.74 2488.63 1955.49 Q2488.63 1964.22 2485.55 1968.82 Q2482.49 1973.41 2476.68 1973.41 Q2470.87 1973.41 2467.79 1968.82 Q2464.74 1964.22 2464.74 1955.49 Q2464.74 1946.74 2467.79 1942.16 Q2470.87 1937.55 2476.68 1937.55 Z\" fill=\"#000000\" fill-rule=\"evenodd\" fill-opacity=\"1\" /><path clip-path=\"url(#clip900)\" d=\"M2488.63 1917.25 L2506.68 1917.25 L2506.68 1918.86 L2496.49 1945.33 L2492.52 1945.33 L2502.11 1920.44 L2488.63 1920.44 L2488.63 1917.25 Z\" fill=\"#000000\" fill-rule=\"evenodd\" fill-opacity=\"1\" /><path clip-path=\"url(#clip900)\" d=\"M3050.92 1942.25 L3039.11 1960.7 L3050.92 1960.7 L3050.92 1942.25 M3049.69 1938.18 L3055.57 1938.18 L3055.57 1960.7 L3060.5 1960.7 L3060.5 1964.59 L3055.57 1964.59 L3055.57 1972.74 L3050.92 1972.74 L3050.92 1964.59 L3035.32 1964.59 L3035.32 1960.07 L3049.69 1938.18 Z\" fill=\"#000000\" fill-rule=\"evenodd\" fill-opacity=\"1\" /><path clip-path=\"url(#clip900)\" d=\"M3068.23 1966.86 L3073.12 1966.86 L3073.12 1972.74 L3068.23 1972.74 L3068.23 1966.86 Z\" fill=\"#000000\" fill-rule=\"evenodd\" fill-opacity=\"1\" /><path clip-path=\"url(#clip900)\" d=\"M3093.3 1941.25 Q3089.69 1941.25 3087.86 1944.82 Q3086.06 1948.36 3086.06 1955.49 Q3086.06 1962.6 3087.86 1966.16 Q3089.69 1969.7 3093.3 1969.7 Q3096.94 1969.7 3098.74 1966.16 Q3100.57 1962.6 3100.57 1955.49 Q3100.57 1948.36 3098.74 1944.82 Q3096.94 1941.25 3093.3 1941.25 M3093.3 1937.55 Q3099.11 1937.55 3102.17 1942.16 Q3105.25 1946.74 3105.25 1955.49 Q3105.25 1964.22 3102.17 1968.82 Q3099.11 1973.41 3093.3 1973.41 Q3087.49 1973.41 3084.41 1968.82 Q3081.36 1964.22 3081.36 1955.49 Q3081.36 1946.74 3084.41 1942.16 Q3087.49 1937.55 3093.3 1937.55 Z\" fill=\"#000000\" fill-rule=\"evenodd\" fill-opacity=\"1\" /><path clip-path=\"url(#clip900)\" d=\"M3141.64 1947.27 L3131.06 1957.9 L3141.64 1968.48 L3138.88 1971.28 L3128.26 1960.65 L3117.63 1971.28 L3114.9 1968.48 L3125.46 1957.9 L3114.9 1947.27 L3117.63 1944.47 L3128.26 1955.1 L3138.88 1944.47 L3141.64 1947.27 Z\" fill=\"#000000\" fill-rule=\"evenodd\" fill-opacity=\"1\" /><path clip-path=\"url(#clip900)\" d=\"M3154 1968.8 L3161.64 1968.8 L3161.64 1942.43 L3153.33 1944.1 L3153.33 1939.84 L3161.59 1938.18 L3166.27 1938.18 L3166.27 1968.8 L3173.9 1968.8 L3173.9 1972.74 L3154 1972.74 L3154 1968.8 Z\" fill=\"#000000\" fill-rule=\"evenodd\" fill-opacity=\"1\" /><path clip-path=\"url(#clip900)\" d=\"M3193.35 1941.25 Q3189.74 1941.25 3187.91 1944.82 Q3186.1 1948.36 3186.1 1955.49 Q3186.1 1962.6 3187.91 1966.16 Q3189.74 1969.7 3193.35 1969.7 Q3196.98 1969.7 3198.79 1966.16 Q3200.62 1962.6 3200.62 1955.49 Q3200.62 1948.36 3198.79 1944.82 Q3196.98 1941.25 3193.35 1941.25 M3193.35 1937.55 Q3199.16 1937.55 3202.21 1942.16 Q3205.29 1946.74 3205.29 1955.49 Q3205.29 1964.22 3202.21 1968.82 Q3199.16 1973.41 3193.35 1973.41 Q3187.54 1973.41 3184.46 1968.82 Q3181.4 1964.22 3181.4 1955.49 Q3181.4 1946.74 3184.46 1942.16 Q3187.54 1937.55 3193.35 1937.55 Z\" fill=\"#000000\" fill-rule=\"evenodd\" fill-opacity=\"1\" /><path clip-path=\"url(#clip900)\" d=\"M3205.29 1917.25 L3223.35 1917.25 L3223.35 1918.86 L3213.16 1945.33 L3209.19 1945.33 L3218.78 1920.44 L3205.29 1920.44 L3205.29 1917.25 Z\" fill=\"#000000\" fill-rule=\"evenodd\" fill-opacity=\"1\" /><path clip-path=\"url(#clip900)\" d=\"M3753.47 1938.18 L3771.82 1938.18 L3771.82 1942.11 L3757.75 1942.11 L3757.75 1950.58 Q3758.77 1950.24 3759.79 1950.07 Q3760.8 1949.89 3761.82 1949.89 Q3767.61 1949.89 3770.99 1953.06 Q3774.37 1956.23 3774.37 1961.65 Q3774.37 1967.23 3770.9 1970.33 Q3767.43 1973.41 3761.11 1973.41 Q3758.93 1973.41 3756.66 1973.04 Q3754.42 1972.67 3752.01 1971.93 L3752.01 1967.23 Q3754.09 1968.36 3756.31 1968.92 Q3758.54 1969.47 3761.01 1969.47 Q3765.02 1969.47 3767.36 1967.37 Q3769.69 1965.26 3769.69 1961.65 Q3769.69 1958.04 3767.36 1955.93 Q3765.02 1953.82 3761.01 1953.82 Q3759.14 1953.82 3757.26 1954.24 Q3755.41 1954.66 3753.47 1955.54 L3753.47 1938.18 Z\" fill=\"#000000\" fill-rule=\"evenodd\" fill-opacity=\"1\" /><path clip-path=\"url(#clip900)\" d=\"M3783.58 1966.86 L3788.47 1966.86 L3788.47 1972.74 L3783.58 1972.74 L3783.58 1966.86 Z\" fill=\"#000000\" fill-rule=\"evenodd\" fill-opacity=\"1\" /><path clip-path=\"url(#clip900)\" d=\"M3808.65 1941.25 Q3805.04 1941.25 3803.21 1944.82 Q3801.41 1948.36 3801.41 1955.49 Q3801.41 1962.6 3803.21 1966.16 Q3805.04 1969.7 3808.65 1969.7 Q3812.29 1969.7 3814.09 1966.16 Q3815.92 1962.6 3815.92 1955.49 Q3815.92 1948.36 3814.09 1944.82 Q3812.29 1941.25 3808.65 1941.25 M3808.65 1937.55 Q3814.46 1937.55 3817.52 1942.16 Q3820.6 1946.74 3820.6 1955.49 Q3820.6 1964.22 3817.52 1968.82 Q3814.46 1973.41 3808.65 1973.41 Q3802.84 1973.41 3799.76 1968.82 Q3796.71 1964.22 3796.71 1955.49 Q3796.71 1946.74 3799.76 1942.16 Q3802.84 1937.55 3808.65 1937.55 Z\" fill=\"#000000\" fill-rule=\"evenodd\" fill-opacity=\"1\" /><path clip-path=\"url(#clip900)\" d=\"M3856.98 1947.27 L3846.41 1957.9 L3856.98 1968.48 L3854.23 1971.28 L3843.61 1960.65 L3832.98 1971.28 L3830.25 1968.48 L3840.8 1957.9 L3830.25 1947.27 L3832.98 1944.47 L3843.61 1955.1 L3854.23 1944.47 L3856.98 1947.27 Z\" fill=\"#000000\" fill-rule=\"evenodd\" fill-opacity=\"1\" /><path clip-path=\"url(#clip900)\" d=\"M3869.35 1968.8 L3876.98 1968.8 L3876.98 1942.43 L3868.67 1944.1 L3868.67 1939.84 L3876.94 1938.18 L3881.61 1938.18 L3881.61 1968.8 L3889.25 1968.8 L3889.25 1972.74 L3869.35 1972.74 L3869.35 1968.8 Z\" fill=\"#000000\" fill-rule=\"evenodd\" fill-opacity=\"1\" /><path clip-path=\"url(#clip900)\" d=\"M3908.7 1941.25 Q3905.09 1941.25 3903.26 1944.82 Q3901.45 1948.36 3901.45 1955.49 Q3901.45 1962.6 3903.26 1966.16 Q3905.09 1969.7 3908.7 1969.7 Q3912.33 1969.7 3914.14 1966.16 Q3915.97 1962.6 3915.97 1955.49 Q3915.97 1948.36 3914.14 1944.82 Q3912.33 1941.25 3908.7 1941.25 M3908.7 1937.55 Q3914.51 1937.55 3917.56 1942.16 Q3920.64 1946.74 3920.64 1955.49 Q3920.64 1964.22 3917.56 1968.82 Q3914.51 1973.41 3908.7 1973.41 Q3902.89 1973.41 3899.81 1968.82 Q3896.75 1964.22 3896.75 1955.49 Q3896.75 1946.74 3899.81 1942.16 Q3902.89 1937.55 3908.7 1937.55 Z\" fill=\"#000000\" fill-rule=\"evenodd\" fill-opacity=\"1\" /><path clip-path=\"url(#clip900)\" d=\"M3920.64 1917.25 L3938.7 1917.25 L3938.7 1918.86 L3928.5 1945.33 L3924.54 1945.33 L3934.13 1920.44 L3920.64 1920.44 L3920.64 1917.25 Z\" fill=\"#000000\" fill-rule=\"evenodd\" fill-opacity=\"1\" /><polyline clip-path=\"url(#clip902)\" style=\"stroke:#000000; stroke-linecap:round; stroke-linejoin:round; stroke-width:2; stroke-opacity:0.1; fill:none\" points=\"\n  157.853,1829.95 3952.76,1829.95 \n  \"/>\n<polyline clip-path=\"url(#clip902)\" style=\"stroke:#000000; stroke-linecap:round; stroke-linejoin:round; stroke-width:2; stroke-opacity:0.1; fill:none\" points=\"\n  157.853,1445.89 3952.76,1445.89 \n  \"/>\n<polyline clip-path=\"url(#clip902)\" style=\"stroke:#000000; stroke-linecap:round; stroke-linejoin:round; stroke-width:2; stroke-opacity:0.1; fill:none\" points=\"\n  157.853,1061.84 3952.76,1061.84 \n  \"/>\n<polyline clip-path=\"url(#clip902)\" style=\"stroke:#000000; stroke-linecap:round; stroke-linejoin:round; stroke-width:2; stroke-opacity:0.1; fill:none\" points=\"\n  157.853,677.779 3952.76,677.779 \n  \"/>\n<polyline clip-path=\"url(#clip902)\" style=\"stroke:#000000; stroke-linecap:round; stroke-linejoin:round; stroke-width:2; stroke-opacity:0.1; fill:none\" points=\"\n  157.853,293.722 3952.76,293.722 \n  \"/>\n<polyline clip-path=\"url(#clip900)\" style=\"stroke:#000000; stroke-linecap:round; stroke-linejoin:round; stroke-width:4; stroke-opacity:1; fill:none\" points=\"\n  157.853,1881.88 157.853,47.2441 \n  \"/>\n<polyline clip-path=\"url(#clip900)\" style=\"stroke:#000000; stroke-linecap:round; stroke-linejoin:round; stroke-width:4; stroke-opacity:1; fill:none\" points=\"\n  157.853,1829.95 176.751,1829.95 \n  \"/>\n<polyline clip-path=\"url(#clip900)\" style=\"stroke:#000000; stroke-linecap:round; stroke-linejoin:round; stroke-width:4; stroke-opacity:1; fill:none\" points=\"\n  157.853,1445.89 176.751,1445.89 \n  \"/>\n<polyline clip-path=\"url(#clip900)\" style=\"stroke:#000000; stroke-linecap:round; stroke-linejoin:round; stroke-width:4; stroke-opacity:1; fill:none\" points=\"\n  157.853,1061.84 176.751,1061.84 \n  \"/>\n<polyline clip-path=\"url(#clip900)\" style=\"stroke:#000000; stroke-linecap:round; stroke-linejoin:round; stroke-width:4; stroke-opacity:1; fill:none\" points=\"\n  157.853,677.779 176.751,677.779 \n  \"/>\n<polyline clip-path=\"url(#clip900)\" style=\"stroke:#000000; stroke-linecap:round; stroke-linejoin:round; stroke-width:4; stroke-opacity:1; fill:none\" points=\"\n  157.853,293.722 176.751,293.722 \n  \"/>\n<path clip-path=\"url(#clip900)\" d=\"M85.9086 1815.75 Q82.2975 1815.75 80.4688 1819.32 Q78.6632 1822.86 78.6632 1829.99 Q78.6632 1837.09 80.4688 1840.66 Q82.2975 1844.2 85.9086 1844.2 Q89.5428 1844.2 91.3483 1840.66 Q93.177 1837.09 93.177 1829.99 Q93.177 1822.86 91.3483 1819.32 Q89.5428 1815.75 85.9086 1815.75 M85.9086 1812.05 Q91.7187 1812.05 94.7743 1816.65 Q97.8529 1821.24 97.8529 1829.99 Q97.8529 1838.71 94.7743 1843.32 Q91.7187 1847.9 85.9086 1847.9 Q80.0984 1847.9 77.0197 1843.32 Q73.9642 1838.71 73.9642 1829.99 Q73.9642 1821.24 77.0197 1816.65 Q80.0984 1812.05 85.9086 1812.05 Z\" fill=\"#000000\" fill-rule=\"evenodd\" fill-opacity=\"1\" /><path clip-path=\"url(#clip900)\" d=\"M46.5569 1459.24 L54.1958 1459.24 L54.1958 1432.87 L45.8856 1434.54 L45.8856 1430.28 L54.1495 1428.61 L58.8254 1428.61 L58.8254 1459.24 L66.4642 1459.24 L66.4642 1463.17 L46.5569 1463.17 L46.5569 1459.24 Z\" fill=\"#000000\" fill-rule=\"evenodd\" fill-opacity=\"1\" /><path clip-path=\"url(#clip900)\" d=\"M85.9086 1431.69 Q82.2975 1431.69 80.4688 1435.26 Q78.6632 1438.8 78.6632 1445.93 Q78.6632 1453.04 80.4688 1456.6 Q82.2975 1460.14 85.9086 1460.14 Q89.5428 1460.14 91.3483 1456.6 Q93.177 1453.04 93.177 1445.93 Q93.177 1438.8 91.3483 1435.26 Q89.5428 1431.69 85.9086 1431.69 M85.9086 1427.99 Q91.7187 1427.99 94.7743 1432.6 Q97.8529 1437.18 97.8529 1445.93 Q97.8529 1454.66 94.7743 1459.26 Q91.7187 1463.85 85.9086 1463.85 Q80.0984 1463.85 77.0197 1459.26 Q73.9642 1454.66 73.9642 1445.93 Q73.9642 1437.18 77.0197 1432.6 Q80.0984 1427.99 85.9086 1427.99 Z\" fill=\"#000000\" fill-rule=\"evenodd\" fill-opacity=\"1\" /><path clip-path=\"url(#clip900)\" d=\"M49.7745 1075.18 L66.0939 1075.18 L66.0939 1079.12 L44.1495 1079.12 L44.1495 1075.18 Q46.8115 1072.43 51.3949 1067.8 Q56.0013 1063.14 57.1819 1061.8 Q59.4272 1059.28 60.3068 1057.54 Q61.2096 1055.78 61.2096 1054.09 Q61.2096 1051.34 59.2652 1049.6 Q57.3439 1047.87 54.2421 1047.87 Q52.043 1047.87 49.5893 1048.63 Q47.1588 1049.39 44.381 1050.95 L44.381 1046.22 Q47.2051 1045.09 49.6588 1044.51 Q52.1124 1043.93 54.1495 1043.93 Q59.5198 1043.93 62.7142 1046.62 Q65.9087 1049.3 65.9087 1053.79 Q65.9087 1055.92 65.0985 1057.84 Q64.3115 1059.74 62.205 1062.33 Q61.6263 1063.01 58.5245 1066.22 Q55.4226 1069.42 49.7745 1075.18 Z\" fill=\"#000000\" fill-rule=\"evenodd\" fill-opacity=\"1\" /><path clip-path=\"url(#clip900)\" d=\"M85.9086 1047.64 Q82.2975 1047.64 80.4688 1051.2 Q78.6632 1054.74 78.6632 1061.87 Q78.6632 1068.98 80.4688 1072.54 Q82.2975 1076.08 85.9086 1076.08 Q89.5428 1076.08 91.3483 1072.54 Q93.177 1068.98 93.177 1061.87 Q93.177 1054.74 91.3483 1051.2 Q89.5428 1047.64 85.9086 1047.64 M85.9086 1043.93 Q91.7187 1043.93 94.7743 1048.54 Q97.8529 1053.12 97.8529 1061.87 Q97.8529 1070.6 94.7743 1075.21 Q91.7187 1079.79 85.9086 1079.79 Q80.0984 1079.79 77.0197 1075.21 Q73.9642 1070.6 73.9642 1061.87 Q73.9642 1053.12 77.0197 1048.54 Q80.0984 1043.93 85.9086 1043.93 Z\" fill=\"#000000\" fill-rule=\"evenodd\" fill-opacity=\"1\" /><path clip-path=\"url(#clip900)\" d=\"M59.9133 676.425 Q63.2698 677.143 65.1448 679.411 Q67.0429 681.68 67.0429 685.013 Q67.0429 690.129 63.5244 692.93 Q60.0059 695.731 53.5245 695.731 Q51.3486 695.731 49.0338 695.291 Q46.7421 694.874 44.2884 694.018 L44.2884 689.504 Q46.2328 690.638 48.5477 691.217 Q50.8625 691.796 53.3856 691.796 Q57.7837 691.796 60.0754 690.06 Q62.3902 688.323 62.3902 685.013 Q62.3902 681.958 60.2374 680.245 Q58.1078 678.509 54.2884 678.509 L50.2606 678.509 L50.2606 674.666 L54.4735 674.666 Q57.9226 674.666 59.7513 673.3 Q61.58 671.911 61.58 669.319 Q61.58 666.657 59.6819 665.245 Q57.8069 663.81 54.2884 663.81 Q52.3671 663.81 50.168 664.226 Q47.969 664.643 45.3301 665.523 L45.3301 661.356 Q47.9921 660.615 50.3069 660.245 Q52.6449 659.874 54.705 659.874 Q60.0291 659.874 63.1309 662.305 Q66.2327 664.712 66.2327 668.833 Q66.2327 671.703 64.5892 673.694 Q62.9457 675.661 59.9133 676.425 Z\" fill=\"#000000\" fill-rule=\"evenodd\" fill-opacity=\"1\" /><path clip-path=\"url(#clip900)\" d=\"M85.9086 663.578 Q82.2975 663.578 80.4688 667.143 Q78.6632 670.685 78.6632 677.814 Q78.6632 684.921 80.4688 688.485 Q82.2975 692.027 85.9086 692.027 Q89.5428 692.027 91.3483 688.485 Q93.177 684.921 93.177 677.814 Q93.177 670.685 91.3483 667.143 Q89.5428 663.578 85.9086 663.578 M85.9086 659.874 Q91.7187 659.874 94.7743 664.481 Q97.8529 669.064 97.8529 677.814 Q97.8529 686.541 94.7743 691.147 Q91.7187 695.731 85.9086 695.731 Q80.0984 695.731 77.0197 691.147 Q73.9642 686.541 73.9642 677.814 Q73.9642 669.064 77.0197 664.481 Q80.0984 659.874 85.9086 659.874 Z\" fill=\"#000000\" fill-rule=\"evenodd\" fill-opacity=\"1\" /><path clip-path=\"url(#clip900)\" d=\"M58.5939 280.516 L46.7884 298.965 L58.5939 298.965 L58.5939 280.516 M57.367 276.442 L63.2466 276.442 L63.2466 298.965 L68.1772 298.965 L68.1772 302.854 L63.2466 302.854 L63.2466 311.002 L58.5939 311.002 L58.5939 302.854 L42.9921 302.854 L42.9921 298.34 L57.367 276.442 Z\" fill=\"#000000\" fill-rule=\"evenodd\" fill-opacity=\"1\" /><path clip-path=\"url(#clip900)\" d=\"M85.9086 279.521 Q82.2975 279.521 80.4688 283.085 Q78.6632 286.627 78.6632 293.757 Q78.6632 300.863 80.4688 304.428 Q82.2975 307.97 85.9086 307.97 Q89.5428 307.97 91.3483 304.428 Q93.177 300.863 93.177 293.757 Q93.177 286.627 91.3483 283.085 Q89.5428 279.521 85.9086 279.521 M85.9086 275.817 Q91.7187 275.817 94.7743 280.423 Q97.8529 285.007 97.8529 293.757 Q97.8529 302.483 94.7743 307.09 Q91.7187 311.673 85.9086 311.673 Q80.0984 311.673 77.0197 307.09 Q73.9642 302.483 73.9642 293.757 Q73.9642 285.007 77.0197 280.423 Q80.0984 275.817 85.9086 275.817 Z\" fill=\"#000000\" fill-rule=\"evenodd\" fill-opacity=\"1\" /><polyline clip-path=\"url(#clip902)\" style=\"stroke:#009af9; stroke-linecap:round; stroke-linejoin:round; stroke-width:4; stroke-opacity:1; fill:none\" points=\"\n  265.256,1829.95 265.262,1829.95 265.327,1829.95 265.971,1829.93 272.415,1829.6 336.857,1822.54 981.275,1651.36 3845.35,99.1676 \n  \"/>\n<circle clip-path=\"url(#clip902)\" cx=\"265.256\" cy=\"1829.95\" r=\"14.4\" fill=\"#e26f46\" fill-rule=\"evenodd\" fill-opacity=\"1\" stroke=\"#000000\" stroke-opacity=\"1\" stroke-width=\"4\"/>\n<circle clip-path=\"url(#clip902)\" cx=\"265.262\" cy=\"1829.95\" r=\"14.4\" fill=\"#e26f46\" fill-rule=\"evenodd\" fill-opacity=\"1\" stroke=\"#000000\" stroke-opacity=\"1\" stroke-width=\"4\"/>\n<circle clip-path=\"url(#clip902)\" cx=\"265.327\" cy=\"1829.95\" r=\"14.4\" fill=\"#e26f46\" fill-rule=\"evenodd\" fill-opacity=\"1\" stroke=\"#000000\" stroke-opacity=\"1\" stroke-width=\"4\"/>\n<circle clip-path=\"url(#clip902)\" cx=\"265.971\" cy=\"1829.93\" r=\"14.4\" fill=\"#e26f46\" fill-rule=\"evenodd\" fill-opacity=\"1\" stroke=\"#000000\" stroke-opacity=\"1\" stroke-width=\"4\"/>\n<circle clip-path=\"url(#clip902)\" cx=\"272.415\" cy=\"1829.6\" r=\"14.4\" fill=\"#e26f46\" fill-rule=\"evenodd\" fill-opacity=\"1\" stroke=\"#000000\" stroke-opacity=\"1\" stroke-width=\"4\"/>\n<circle clip-path=\"url(#clip902)\" cx=\"336.857\" cy=\"1822.54\" r=\"14.4\" fill=\"#e26f46\" fill-rule=\"evenodd\" fill-opacity=\"1\" stroke=\"#000000\" stroke-opacity=\"1\" stroke-width=\"4\"/>\n<circle clip-path=\"url(#clip902)\" cx=\"981.275\" cy=\"1651.36\" r=\"14.4\" fill=\"#e26f46\" fill-rule=\"evenodd\" fill-opacity=\"1\" stroke=\"#000000\" stroke-opacity=\"1\" stroke-width=\"4\"/>\n<circle clip-path=\"url(#clip902)\" cx=\"3845.35\" cy=\"99.1676\" r=\"14.4\" fill=\"#e26f46\" fill-rule=\"evenodd\" fill-opacity=\"1\" stroke=\"#000000\" stroke-opacity=\"1\" stroke-width=\"4\"/>\n<path clip-path=\"url(#clip900)\" d=\"\nM3394.34 263.918 L3826.26 263.918 L3826.26 108.398 L3394.34 108.398  Z\n  \" fill=\"#ffffff\" fill-rule=\"evenodd\" fill-opacity=\"1\"/>\n<polyline clip-path=\"url(#clip900)\" style=\"stroke:#000000; stroke-linecap:round; stroke-linejoin:round; stroke-width:4; stroke-opacity:1; fill:none\" points=\"\n  3394.34,263.918 3826.26,263.918 3826.26,108.398 3394.34,108.398 3394.34,263.918 \n  \"/>\n<polyline clip-path=\"url(#clip900)\" style=\"stroke:#009af9; stroke-linecap:round; stroke-linejoin:round; stroke-width:4; stroke-opacity:1; fill:none\" points=\"\n  3436.5,160.238 3689.5,160.238 \n  \"/>\n<path clip-path=\"url(#clip900)\" d=\"M3745.51 179.926 Q3743.7 184.555 3741.99 185.968 Q3740.27 187.38 3737.4 187.38 L3734 187.38 L3734 183.815 L3736.5 183.815 Q3738.26 183.815 3739.23 182.981 Q3740.2 182.148 3741.39 179.046 L3742.15 177.102 L3731.66 151.593 L3736.18 151.593 L3744.28 171.87 L3752.38 151.593 L3756.89 151.593 L3745.51 179.926 Z\" fill=\"#000000\" fill-rule=\"evenodd\" fill-opacity=\"1\" /><path clip-path=\"url(#clip900)\" d=\"M3764.19 173.583 L3771.83 173.583 L3771.83 147.218 L3763.51 148.884 L3763.51 144.625 L3771.78 142.958 L3776.45 142.958 L3776.45 173.583 L3784.09 173.583 L3784.09 177.518 L3764.19 177.518 L3764.19 173.583 Z\" fill=\"#000000\" fill-rule=\"evenodd\" fill-opacity=\"1\" /><circle clip-path=\"url(#clip900)\" cx=\"3563\" cy=\"212.078\" r=\"23.04\" fill=\"#e26f46\" fill-rule=\"evenodd\" fill-opacity=\"1\" stroke=\"#000000\" stroke-opacity=\"1\" stroke-width=\"6.4\"/>\n<path clip-path=\"url(#clip900)\" d=\"M3745.51 231.766 Q3743.7 236.395 3741.99 237.808 Q3740.27 239.22 3737.4 239.22 L3734 239.22 L3734 235.655 L3736.5 235.655 Q3738.26 235.655 3739.23 234.821 Q3740.2 233.988 3741.39 230.886 L3742.15 228.942 L3731.66 203.433 L3736.18 203.433 L3744.28 223.71 L3752.38 203.433 L3756.89 203.433 L3745.51 231.766 Z\" fill=\"#000000\" fill-rule=\"evenodd\" fill-opacity=\"1\" /><path clip-path=\"url(#clip900)\" d=\"M3767.4 225.423 L3783.72 225.423 L3783.72 229.358 L3761.78 229.358 L3761.78 225.423 Q3764.44 222.669 3769.02 218.039 Q3773.63 213.386 3774.81 212.044 Q3777.06 209.521 3777.94 207.785 Q3778.84 206.025 3778.84 204.335 Q3778.84 201.581 3776.89 199.845 Q3774.97 198.109 3771.87 198.109 Q3769.67 198.109 3767.22 198.873 Q3764.79 199.636 3762.01 201.187 L3762.01 196.465 Q3764.83 195.331 3767.29 194.752 Q3769.74 194.173 3771.78 194.173 Q3777.15 194.173 3780.34 196.859 Q3783.54 199.544 3783.54 204.035 Q3783.54 206.164 3782.73 208.085 Q3781.94 209.984 3779.83 212.576 Q3779.26 213.247 3776.15 216.465 Q3773.05 219.659 3767.4 225.423 Z\" fill=\"#000000\" fill-rule=\"evenodd\" fill-opacity=\"1\" /></svg>\n",
      "text/html": [
       "<?xml version=\"1.0\" encoding=\"utf-8\"?>\n",
       "<svg xmlns=\"http://www.w3.org/2000/svg\" xmlns:xlink=\"http://www.w3.org/1999/xlink\" width=\"1000\" height=\"500\" viewBox=\"0 0 4000 2000\">\n",
       "<defs>\n",
       "  <clipPath id=\"clip950\">\n",
       "    <rect x=\"0\" y=\"0\" width=\"4000\" height=\"2000\"/>\n",
       "  </clipPath>\n",
       "</defs>\n",
       "<path clip-path=\"url(#clip950)\" d=\"\n",
       "M0 2000 L4000 2000 L4000 0 L0 0  Z\n",
       "  \" fill=\"#ffffff\" fill-rule=\"evenodd\" fill-opacity=\"1\"/>\n",
       "<defs>\n",
       "  <clipPath id=\"clip951\">\n",
       "    <rect x=\"800\" y=\"0\" width=\"2801\" height=\"2000\"/>\n",
       "  </clipPath>\n",
       "</defs>\n",
       "<path clip-path=\"url(#clip950)\" d=\"\n",
       "M157.853 1881.88 L3952.76 1881.88 L3952.76 47.2441 L157.853 47.2441  Z\n",
       "  \" fill=\"#ffffff\" fill-rule=\"evenodd\" fill-opacity=\"1\"/>\n",
       "<defs>\n",
       "  <clipPath id=\"clip952\">\n",
       "    <rect x=\"157\" y=\"47\" width=\"3796\" height=\"1836\"/>\n",
       "  </clipPath>\n",
       "</defs>\n",
       "<polyline clip-path=\"url(#clip952)\" style=\"stroke:#000000; stroke-linecap:round; stroke-linejoin:round; stroke-width:2; stroke-opacity:0.1; fill:none\" points=\"\n",
       "  265.255,1881.88 265.255,47.2441 \n",
       "  \"/>\n",
       "<polyline clip-path=\"url(#clip952)\" style=\"stroke:#000000; stroke-linecap:round; stroke-linejoin:round; stroke-width:2; stroke-opacity:0.1; fill:none\" points=\"\n",
       "  981.275,1881.88 981.275,47.2441 \n",
       "  \"/>\n",
       "<polyline clip-path=\"url(#clip952)\" style=\"stroke:#000000; stroke-linecap:round; stroke-linejoin:round; stroke-width:2; stroke-opacity:0.1; fill:none\" points=\"\n",
       "  1697.29,1881.88 1697.29,47.2441 \n",
       "  \"/>\n",
       "<polyline clip-path=\"url(#clip952)\" style=\"stroke:#000000; stroke-linecap:round; stroke-linejoin:round; stroke-width:2; stroke-opacity:0.1; fill:none\" points=\"\n",
       "  2413.31,1881.88 2413.31,47.2441 \n",
       "  \"/>\n",
       "<polyline clip-path=\"url(#clip952)\" style=\"stroke:#000000; stroke-linecap:round; stroke-linejoin:round; stroke-width:2; stroke-opacity:0.1; fill:none\" points=\"\n",
       "  3129.33,1881.88 3129.33,47.2441 \n",
       "  \"/>\n",
       "<polyline clip-path=\"url(#clip952)\" style=\"stroke:#000000; stroke-linecap:round; stroke-linejoin:round; stroke-width:2; stroke-opacity:0.1; fill:none\" points=\"\n",
       "  3845.35,1881.88 3845.35,47.2441 \n",
       "  \"/>\n",
       "<polyline clip-path=\"url(#clip950)\" style=\"stroke:#000000; stroke-linecap:round; stroke-linejoin:round; stroke-width:4; stroke-opacity:1; fill:none\" points=\"\n",
       "  157.853,1881.88 3952.76,1881.88 \n",
       "  \"/>\n",
       "<polyline clip-path=\"url(#clip950)\" style=\"stroke:#000000; stroke-linecap:round; stroke-linejoin:round; stroke-width:4; stroke-opacity:1; fill:none\" points=\"\n",
       "  265.255,1881.88 265.255,1862.98 \n",
       "  \"/>\n",
       "<polyline clip-path=\"url(#clip950)\" style=\"stroke:#000000; stroke-linecap:round; stroke-linejoin:round; stroke-width:4; stroke-opacity:1; fill:none\" points=\"\n",
       "  981.275,1881.88 981.275,1862.98 \n",
       "  \"/>\n",
       "<polyline clip-path=\"url(#clip950)\" style=\"stroke:#000000; stroke-linecap:round; stroke-linejoin:round; stroke-width:4; stroke-opacity:1; fill:none\" points=\"\n",
       "  1697.29,1881.88 1697.29,1862.98 \n",
       "  \"/>\n",
       "<polyline clip-path=\"url(#clip950)\" style=\"stroke:#000000; stroke-linecap:round; stroke-linejoin:round; stroke-width:4; stroke-opacity:1; fill:none\" points=\"\n",
       "  2413.31,1881.88 2413.31,1862.98 \n",
       "  \"/>\n",
       "<polyline clip-path=\"url(#clip950)\" style=\"stroke:#000000; stroke-linecap:round; stroke-linejoin:round; stroke-width:4; stroke-opacity:1; fill:none\" points=\"\n",
       "  3129.33,1881.88 3129.33,1862.98 \n",
       "  \"/>\n",
       "<polyline clip-path=\"url(#clip950)\" style=\"stroke:#000000; stroke-linecap:round; stroke-linejoin:round; stroke-width:4; stroke-opacity:1; fill:none\" points=\"\n",
       "  3845.35,1881.88 3845.35,1862.98 \n",
       "  \"/>\n",
       "<path clip-path=\"url(#clip950)\" d=\"M265.255 1925.59 Q261.644 1925.59 259.815 1929.16 Q258.01 1932.7 258.01 1939.83 Q258.01 1946.94 259.815 1950.5 Q261.644 1954.04 265.255 1954.04 Q268.889 1954.04 270.695 1950.5 Q272.524 1946.94 272.524 1939.83 Q272.524 1932.7 270.695 1929.16 Q268.889 1925.59 265.255 1925.59 M265.255 1921.89 Q271.065 1921.89 274.121 1926.5 Q277.2 1931.08 277.2 1939.83 Q277.2 1948.56 274.121 1953.16 Q271.065 1957.75 265.255 1957.75 Q259.445 1957.75 256.366 1953.16 Q253.311 1948.56 253.311 1939.83 Q253.311 1931.08 256.366 1926.5 Q259.445 1921.89 265.255 1921.89 Z\" fill=\"#000000\" fill-rule=\"evenodd\" fill-opacity=\"1\" /><path clip-path=\"url(#clip950)\" d=\"M889.377 1968.8 L897.016 1968.8 L897.016 1942.43 L888.706 1944.1 L888.706 1939.84 L896.97 1938.18 L901.646 1938.18 L901.646 1968.8 L909.284 1968.8 L909.284 1972.74 L889.377 1972.74 L889.377 1968.8 Z\" fill=\"#000000\" fill-rule=\"evenodd\" fill-opacity=\"1\" /><path clip-path=\"url(#clip950)\" d=\"M918.729 1966.86 L923.613 1966.86 L923.613 1972.74 L918.729 1972.74 L918.729 1966.86 Z\" fill=\"#000000\" fill-rule=\"evenodd\" fill-opacity=\"1\" /><path clip-path=\"url(#clip950)\" d=\"M943.798 1941.25 Q940.187 1941.25 938.358 1944.82 Q936.553 1948.36 936.553 1955.49 Q936.553 1962.6 938.358 1966.16 Q940.187 1969.7 943.798 1969.7 Q947.432 1969.7 949.238 1966.16 Q951.067 1962.6 951.067 1955.49 Q951.067 1948.36 949.238 1944.82 Q947.432 1941.25 943.798 1941.25 M943.798 1937.55 Q949.608 1937.55 952.664 1942.16 Q955.742 1946.74 955.742 1955.49 Q955.742 1964.22 952.664 1968.82 Q949.608 1973.41 943.798 1973.41 Q937.988 1973.41 934.909 1968.82 Q931.854 1964.22 931.854 1955.49 Q931.854 1946.74 934.909 1942.16 Q937.988 1937.55 943.798 1937.55 Z\" fill=\"#000000\" fill-rule=\"evenodd\" fill-opacity=\"1\" /><path clip-path=\"url(#clip950)\" d=\"M992.131 1947.27 L981.552 1957.9 L992.131 1968.48 L989.377 1971.28 L978.752 1960.65 L968.127 1971.28 L965.395 1968.48 L975.951 1957.9 L965.395 1947.27 L968.127 1944.47 L978.752 1955.1 L989.377 1944.47 L992.131 1947.27 Z\" fill=\"#000000\" fill-rule=\"evenodd\" fill-opacity=\"1\" /><path clip-path=\"url(#clip950)\" d=\"M1004.49 1968.8 L1012.13 1968.8 L1012.13 1942.43 L1003.82 1944.1 L1003.82 1939.84 L1012.08 1938.18 L1016.76 1938.18 L1016.76 1968.8 L1024.4 1968.8 L1024.4 1972.74 L1004.49 1972.74 L1004.49 1968.8 Z\" fill=\"#000000\" fill-rule=\"evenodd\" fill-opacity=\"1\" /><path clip-path=\"url(#clip950)\" d=\"M1043.84 1941.25 Q1040.23 1941.25 1038.4 1944.82 Q1036.6 1948.36 1036.6 1955.49 Q1036.6 1962.6 1038.4 1966.16 Q1040.23 1969.7 1043.84 1969.7 Q1047.48 1969.7 1049.28 1966.16 Q1051.11 1962.6 1051.11 1955.49 Q1051.11 1948.36 1049.28 1944.82 Q1047.48 1941.25 1043.84 1941.25 M1043.84 1937.55 Q1049.65 1937.55 1052.71 1942.16 Q1055.79 1946.74 1055.79 1955.49 Q1055.79 1964.22 1052.71 1968.82 Q1049.65 1973.41 1043.84 1973.41 Q1038.03 1973.41 1034.95 1968.82 Q1031.9 1964.22 1031.9 1955.49 Q1031.9 1946.74 1034.95 1942.16 Q1038.03 1937.55 1043.84 1937.55 Z\" fill=\"#000000\" fill-rule=\"evenodd\" fill-opacity=\"1\" /><path clip-path=\"url(#clip950)\" d=\"M1055.79 1917.25 L1073.84 1917.25 L1073.84 1918.86 L1063.65 1945.33 L1059.68 1945.33 L1069.27 1920.44 L1055.79 1920.44 L1055.79 1917.25 Z\" fill=\"#000000\" fill-rule=\"evenodd\" fill-opacity=\"1\" /><path clip-path=\"url(#clip950)\" d=\"M1609.48 1968.8 L1625.8 1968.8 L1625.8 1972.74 L1603.86 1972.74 L1603.86 1968.8 Q1606.52 1966.05 1611.1 1961.42 Q1615.71 1956.76 1616.89 1955.42 Q1619.13 1952.9 1620.01 1951.16 Q1620.92 1949.4 1620.92 1947.71 Q1620.92 1944.96 1618.97 1943.22 Q1617.05 1941.49 1613.95 1941.49 Q1611.75 1941.49 1609.3 1942.25 Q1606.87 1943.01 1604.09 1944.56 L1604.09 1939.84 Q1606.91 1938.71 1609.37 1938.13 Q1611.82 1937.55 1613.86 1937.55 Q1619.23 1937.55 1622.42 1940.24 Q1625.62 1942.92 1625.62 1947.41 Q1625.62 1949.54 1624.81 1951.46 Q1624.02 1953.36 1621.91 1955.95 Q1621.33 1956.62 1618.23 1959.84 Q1615.13 1963.04 1609.48 1968.8 Z\" fill=\"#000000\" fill-rule=\"evenodd\" fill-opacity=\"1\" /><path clip-path=\"url(#clip950)\" d=\"M1635.62 1966.86 L1640.5 1966.86 L1640.5 1972.74 L1635.62 1972.74 L1635.62 1966.86 Z\" fill=\"#000000\" fill-rule=\"evenodd\" fill-opacity=\"1\" /><path clip-path=\"url(#clip950)\" d=\"M1660.69 1941.25 Q1657.07 1941.25 1655.25 1944.82 Q1653.44 1948.36 1653.44 1955.49 Q1653.44 1962.6 1655.25 1966.16 Q1657.07 1969.7 1660.69 1969.7 Q1664.32 1969.7 1666.13 1966.16 Q1667.95 1962.6 1667.95 1955.49 Q1667.95 1948.36 1666.13 1944.82 Q1664.32 1941.25 1660.69 1941.25 M1660.69 1937.55 Q1666.5 1937.55 1669.55 1942.16 Q1672.63 1946.74 1672.63 1955.49 Q1672.63 1964.22 1669.55 1968.82 Q1666.5 1973.41 1660.69 1973.41 Q1654.88 1973.41 1651.8 1968.82 Q1648.74 1964.22 1648.74 1955.49 Q1648.74 1946.74 1651.8 1942.16 Q1654.88 1937.55 1660.69 1937.55 Z\" fill=\"#000000\" fill-rule=\"evenodd\" fill-opacity=\"1\" /><path clip-path=\"url(#clip950)\" d=\"M1709.02 1947.27 L1698.44 1957.9 L1709.02 1968.48 L1706.26 1971.28 L1695.64 1960.65 L1685.01 1971.28 L1682.28 1968.48 L1692.84 1957.9 L1682.28 1947.27 L1685.01 1944.47 L1695.64 1955.1 L1706.26 1944.47 L1709.02 1947.27 Z\" fill=\"#000000\" fill-rule=\"evenodd\" fill-opacity=\"1\" /><path clip-path=\"url(#clip950)\" d=\"M1721.38 1968.8 L1729.02 1968.8 L1729.02 1942.43 L1720.71 1944.1 L1720.71 1939.84 L1728.97 1938.18 L1733.65 1938.18 L1733.65 1968.8 L1741.29 1968.8 L1741.29 1972.74 L1721.38 1972.74 L1721.38 1968.8 Z\" fill=\"#000000\" fill-rule=\"evenodd\" fill-opacity=\"1\" /><path clip-path=\"url(#clip950)\" d=\"M1760.73 1941.25 Q1757.12 1941.25 1755.29 1944.82 Q1753.49 1948.36 1753.49 1955.49 Q1753.49 1962.6 1755.29 1966.16 Q1757.12 1969.7 1760.73 1969.7 Q1764.37 1969.7 1766.17 1966.16 Q1768 1962.6 1768 1955.49 Q1768 1948.36 1766.17 1944.82 Q1764.37 1941.25 1760.73 1941.25 M1760.73 1937.55 Q1766.54 1937.55 1769.6 1942.16 Q1772.68 1946.74 1772.68 1955.49 Q1772.68 1964.22 1769.6 1968.82 Q1766.54 1973.41 1760.73 1973.41 Q1754.92 1973.41 1751.84 1968.82 Q1748.79 1964.22 1748.79 1955.49 Q1748.79 1946.74 1751.84 1942.16 Q1754.92 1937.55 1760.73 1937.55 Z\" fill=\"#000000\" fill-rule=\"evenodd\" fill-opacity=\"1\" /><path clip-path=\"url(#clip950)\" d=\"M1772.68 1917.25 L1790.73 1917.25 L1790.73 1918.86 L1780.54 1945.33 L1776.57 1945.33 L1786.16 1920.44 L1772.68 1920.44 L1772.68 1917.25 Z\" fill=\"#000000\" fill-rule=\"evenodd\" fill-opacity=\"1\" /><path clip-path=\"url(#clip950)\" d=\"M2335.57 1954.1 Q2338.93 1954.82 2340.8 1957.09 Q2342.7 1959.36 2342.7 1962.69 Q2342.7 1967.8 2339.18 1970.61 Q2335.66 1973.41 2329.18 1973.41 Q2327.01 1973.41 2324.69 1972.97 Q2322.4 1972.55 2319.95 1971.69 L2319.95 1967.18 Q2321.89 1968.31 2324.21 1968.89 Q2326.52 1969.47 2329.04 1969.47 Q2333.44 1969.47 2335.73 1967.74 Q2338.05 1966 2338.05 1962.69 Q2338.05 1959.63 2335.9 1957.92 Q2333.77 1956.18 2329.95 1956.18 L2325.92 1956.18 L2325.92 1952.34 L2330.13 1952.34 Q2333.58 1952.34 2335.41 1950.98 Q2337.24 1949.59 2337.24 1946.99 Q2337.24 1944.33 2335.34 1942.92 Q2333.46 1941.49 2329.95 1941.49 Q2328.02 1941.49 2325.83 1941.9 Q2323.63 1942.32 2320.99 1943.2 L2320.99 1939.03 Q2323.65 1938.29 2325.96 1937.92 Q2328.3 1937.55 2330.36 1937.55 Q2335.69 1937.55 2338.79 1939.98 Q2341.89 1942.39 2341.89 1946.51 Q2341.89 1949.38 2340.25 1951.37 Q2338.6 1953.34 2335.57 1954.1 Z\" fill=\"#000000\" fill-rule=\"evenodd\" fill-opacity=\"1\" /><path clip-path=\"url(#clip950)\" d=\"M2351.57 1966.86 L2356.45 1966.86 L2356.45 1972.74 L2351.57 1972.74 L2351.57 1966.86 Z\" fill=\"#000000\" fill-rule=\"evenodd\" fill-opacity=\"1\" /><path clip-path=\"url(#clip950)\" d=\"M2376.64 1941.25 Q2373.02 1941.25 2371.2 1944.82 Q2369.39 1948.36 2369.39 1955.49 Q2369.39 1962.6 2371.2 1966.16 Q2373.02 1969.7 2376.64 1969.7 Q2380.27 1969.7 2382.08 1966.16 Q2383.9 1962.6 2383.9 1955.49 Q2383.9 1948.36 2382.08 1944.82 Q2380.27 1941.25 2376.64 1941.25 M2376.64 1937.55 Q2382.45 1937.55 2385.5 1942.16 Q2388.58 1946.74 2388.58 1955.49 Q2388.58 1964.22 2385.5 1968.82 Q2382.45 1973.41 2376.64 1973.41 Q2370.83 1973.41 2367.75 1968.82 Q2364.69 1964.22 2364.69 1955.49 Q2364.69 1946.74 2367.75 1942.16 Q2370.83 1937.55 2376.64 1937.55 Z\" fill=\"#000000\" fill-rule=\"evenodd\" fill-opacity=\"1\" /><path clip-path=\"url(#clip950)\" d=\"M2424.97 1947.27 L2414.39 1957.9 L2424.97 1968.48 L2422.21 1971.28 L2411.59 1960.65 L2400.96 1971.28 L2398.23 1968.48 L2408.79 1957.9 L2398.23 1947.27 L2400.96 1944.47 L2411.59 1955.1 L2422.21 1944.47 L2424.97 1947.27 Z\" fill=\"#000000\" fill-rule=\"evenodd\" fill-opacity=\"1\" /><path clip-path=\"url(#clip950)\" d=\"M2437.33 1968.8 L2444.97 1968.8 L2444.97 1942.43 L2436.66 1944.1 L2436.66 1939.84 L2444.92 1938.18 L2449.6 1938.18 L2449.6 1968.8 L2457.24 1968.8 L2457.24 1972.74 L2437.33 1972.74 L2437.33 1968.8 Z\" fill=\"#000000\" fill-rule=\"evenodd\" fill-opacity=\"1\" /><path clip-path=\"url(#clip950)\" d=\"M2476.68 1941.25 Q2473.07 1941.25 2471.24 1944.82 Q2469.44 1948.36 2469.44 1955.49 Q2469.44 1962.6 2471.24 1966.16 Q2473.07 1969.7 2476.68 1969.7 Q2480.32 1969.7 2482.12 1966.16 Q2483.95 1962.6 2483.95 1955.49 Q2483.95 1948.36 2482.12 1944.82 Q2480.32 1941.25 2476.68 1941.25 M2476.68 1937.55 Q2482.49 1937.55 2485.55 1942.16 Q2488.63 1946.74 2488.63 1955.49 Q2488.63 1964.22 2485.55 1968.82 Q2482.49 1973.41 2476.68 1973.41 Q2470.87 1973.41 2467.79 1968.82 Q2464.74 1964.22 2464.74 1955.49 Q2464.74 1946.74 2467.79 1942.16 Q2470.87 1937.55 2476.68 1937.55 Z\" fill=\"#000000\" fill-rule=\"evenodd\" fill-opacity=\"1\" /><path clip-path=\"url(#clip950)\" d=\"M2488.63 1917.25 L2506.68 1917.25 L2506.68 1918.86 L2496.49 1945.33 L2492.52 1945.33 L2502.11 1920.44 L2488.63 1920.44 L2488.63 1917.25 Z\" fill=\"#000000\" fill-rule=\"evenodd\" fill-opacity=\"1\" /><path clip-path=\"url(#clip950)\" d=\"M3050.92 1942.25 L3039.11 1960.7 L3050.92 1960.7 L3050.92 1942.25 M3049.69 1938.18 L3055.57 1938.18 L3055.57 1960.7 L3060.5 1960.7 L3060.5 1964.59 L3055.57 1964.59 L3055.57 1972.74 L3050.92 1972.74 L3050.92 1964.59 L3035.32 1964.59 L3035.32 1960.07 L3049.69 1938.18 Z\" fill=\"#000000\" fill-rule=\"evenodd\" fill-opacity=\"1\" /><path clip-path=\"url(#clip950)\" d=\"M3068.23 1966.86 L3073.12 1966.86 L3073.12 1972.74 L3068.23 1972.74 L3068.23 1966.86 Z\" fill=\"#000000\" fill-rule=\"evenodd\" fill-opacity=\"1\" /><path clip-path=\"url(#clip950)\" d=\"M3093.3 1941.25 Q3089.69 1941.25 3087.86 1944.82 Q3086.06 1948.36 3086.06 1955.49 Q3086.06 1962.6 3087.86 1966.16 Q3089.69 1969.7 3093.3 1969.7 Q3096.94 1969.7 3098.74 1966.16 Q3100.57 1962.6 3100.57 1955.49 Q3100.57 1948.36 3098.74 1944.82 Q3096.94 1941.25 3093.3 1941.25 M3093.3 1937.55 Q3099.11 1937.55 3102.17 1942.16 Q3105.25 1946.74 3105.25 1955.49 Q3105.25 1964.22 3102.17 1968.82 Q3099.11 1973.41 3093.3 1973.41 Q3087.49 1973.41 3084.41 1968.82 Q3081.36 1964.22 3081.36 1955.49 Q3081.36 1946.74 3084.41 1942.16 Q3087.49 1937.55 3093.3 1937.55 Z\" fill=\"#000000\" fill-rule=\"evenodd\" fill-opacity=\"1\" /><path clip-path=\"url(#clip950)\" d=\"M3141.64 1947.27 L3131.06 1957.9 L3141.64 1968.48 L3138.88 1971.28 L3128.26 1960.65 L3117.63 1971.28 L3114.9 1968.48 L3125.46 1957.9 L3114.9 1947.27 L3117.63 1944.47 L3128.26 1955.1 L3138.88 1944.47 L3141.64 1947.27 Z\" fill=\"#000000\" fill-rule=\"evenodd\" fill-opacity=\"1\" /><path clip-path=\"url(#clip950)\" d=\"M3154 1968.8 L3161.64 1968.8 L3161.64 1942.43 L3153.33 1944.1 L3153.33 1939.84 L3161.59 1938.18 L3166.27 1938.18 L3166.27 1968.8 L3173.9 1968.8 L3173.9 1972.74 L3154 1972.74 L3154 1968.8 Z\" fill=\"#000000\" fill-rule=\"evenodd\" fill-opacity=\"1\" /><path clip-path=\"url(#clip950)\" d=\"M3193.35 1941.25 Q3189.74 1941.25 3187.91 1944.82 Q3186.1 1948.36 3186.1 1955.49 Q3186.1 1962.6 3187.91 1966.16 Q3189.74 1969.7 3193.35 1969.7 Q3196.98 1969.7 3198.79 1966.16 Q3200.62 1962.6 3200.62 1955.49 Q3200.62 1948.36 3198.79 1944.82 Q3196.98 1941.25 3193.35 1941.25 M3193.35 1937.55 Q3199.16 1937.55 3202.21 1942.16 Q3205.29 1946.74 3205.29 1955.49 Q3205.29 1964.22 3202.21 1968.82 Q3199.16 1973.41 3193.35 1973.41 Q3187.54 1973.41 3184.46 1968.82 Q3181.4 1964.22 3181.4 1955.49 Q3181.4 1946.74 3184.46 1942.16 Q3187.54 1937.55 3193.35 1937.55 Z\" fill=\"#000000\" fill-rule=\"evenodd\" fill-opacity=\"1\" /><path clip-path=\"url(#clip950)\" d=\"M3205.29 1917.25 L3223.35 1917.25 L3223.35 1918.86 L3213.16 1945.33 L3209.19 1945.33 L3218.78 1920.44 L3205.29 1920.44 L3205.29 1917.25 Z\" fill=\"#000000\" fill-rule=\"evenodd\" fill-opacity=\"1\" /><path clip-path=\"url(#clip950)\" d=\"M3753.47 1938.18 L3771.82 1938.18 L3771.82 1942.11 L3757.75 1942.11 L3757.75 1950.58 Q3758.77 1950.24 3759.79 1950.07 Q3760.8 1949.89 3761.82 1949.89 Q3767.61 1949.89 3770.99 1953.06 Q3774.37 1956.23 3774.37 1961.65 Q3774.37 1967.23 3770.9 1970.33 Q3767.43 1973.41 3761.11 1973.41 Q3758.93 1973.41 3756.66 1973.04 Q3754.42 1972.67 3752.01 1971.93 L3752.01 1967.23 Q3754.09 1968.36 3756.31 1968.92 Q3758.54 1969.47 3761.01 1969.47 Q3765.02 1969.47 3767.36 1967.37 Q3769.69 1965.26 3769.69 1961.65 Q3769.69 1958.04 3767.36 1955.93 Q3765.02 1953.82 3761.01 1953.82 Q3759.14 1953.82 3757.26 1954.24 Q3755.41 1954.66 3753.47 1955.54 L3753.47 1938.18 Z\" fill=\"#000000\" fill-rule=\"evenodd\" fill-opacity=\"1\" /><path clip-path=\"url(#clip950)\" d=\"M3783.58 1966.86 L3788.47 1966.86 L3788.47 1972.74 L3783.58 1972.74 L3783.58 1966.86 Z\" fill=\"#000000\" fill-rule=\"evenodd\" fill-opacity=\"1\" /><path clip-path=\"url(#clip950)\" d=\"M3808.65 1941.25 Q3805.04 1941.25 3803.21 1944.82 Q3801.41 1948.36 3801.41 1955.49 Q3801.41 1962.6 3803.21 1966.16 Q3805.04 1969.7 3808.65 1969.7 Q3812.29 1969.7 3814.09 1966.16 Q3815.92 1962.6 3815.92 1955.49 Q3815.92 1948.36 3814.09 1944.82 Q3812.29 1941.25 3808.65 1941.25 M3808.65 1937.55 Q3814.46 1937.55 3817.52 1942.16 Q3820.6 1946.74 3820.6 1955.49 Q3820.6 1964.22 3817.52 1968.82 Q3814.46 1973.41 3808.65 1973.41 Q3802.84 1973.41 3799.76 1968.82 Q3796.71 1964.22 3796.71 1955.49 Q3796.71 1946.74 3799.76 1942.16 Q3802.84 1937.55 3808.65 1937.55 Z\" fill=\"#000000\" fill-rule=\"evenodd\" fill-opacity=\"1\" /><path clip-path=\"url(#clip950)\" d=\"M3856.98 1947.27 L3846.41 1957.9 L3856.98 1968.48 L3854.23 1971.28 L3843.61 1960.65 L3832.98 1971.28 L3830.25 1968.48 L3840.8 1957.9 L3830.25 1947.27 L3832.98 1944.47 L3843.61 1955.1 L3854.23 1944.47 L3856.98 1947.27 Z\" fill=\"#000000\" fill-rule=\"evenodd\" fill-opacity=\"1\" /><path clip-path=\"url(#clip950)\" d=\"M3869.35 1968.8 L3876.98 1968.8 L3876.98 1942.43 L3868.67 1944.1 L3868.67 1939.84 L3876.94 1938.18 L3881.61 1938.18 L3881.61 1968.8 L3889.25 1968.8 L3889.25 1972.74 L3869.35 1972.74 L3869.35 1968.8 Z\" fill=\"#000000\" fill-rule=\"evenodd\" fill-opacity=\"1\" /><path clip-path=\"url(#clip950)\" d=\"M3908.7 1941.25 Q3905.09 1941.25 3903.26 1944.82 Q3901.45 1948.36 3901.45 1955.49 Q3901.45 1962.6 3903.26 1966.16 Q3905.09 1969.7 3908.7 1969.7 Q3912.33 1969.7 3914.14 1966.16 Q3915.97 1962.6 3915.97 1955.49 Q3915.97 1948.36 3914.14 1944.82 Q3912.33 1941.25 3908.7 1941.25 M3908.7 1937.55 Q3914.51 1937.55 3917.56 1942.16 Q3920.64 1946.74 3920.64 1955.49 Q3920.64 1964.22 3917.56 1968.82 Q3914.51 1973.41 3908.7 1973.41 Q3902.89 1973.41 3899.81 1968.82 Q3896.75 1964.22 3896.75 1955.49 Q3896.75 1946.74 3899.81 1942.16 Q3902.89 1937.55 3908.7 1937.55 Z\" fill=\"#000000\" fill-rule=\"evenodd\" fill-opacity=\"1\" /><path clip-path=\"url(#clip950)\" d=\"M3920.64 1917.25 L3938.7 1917.25 L3938.7 1918.86 L3928.5 1945.33 L3924.54 1945.33 L3934.13 1920.44 L3920.64 1920.44 L3920.64 1917.25 Z\" fill=\"#000000\" fill-rule=\"evenodd\" fill-opacity=\"1\" /><polyline clip-path=\"url(#clip952)\" style=\"stroke:#000000; stroke-linecap:round; stroke-linejoin:round; stroke-width:2; stroke-opacity:0.1; fill:none\" points=\"\n",
       "  157.853,1829.95 3952.76,1829.95 \n",
       "  \"/>\n",
       "<polyline clip-path=\"url(#clip952)\" style=\"stroke:#000000; stroke-linecap:round; stroke-linejoin:round; stroke-width:2; stroke-opacity:0.1; fill:none\" points=\"\n",
       "  157.853,1445.89 3952.76,1445.89 \n",
       "  \"/>\n",
       "<polyline clip-path=\"url(#clip952)\" style=\"stroke:#000000; stroke-linecap:round; stroke-linejoin:round; stroke-width:2; stroke-opacity:0.1; fill:none\" points=\"\n",
       "  157.853,1061.84 3952.76,1061.84 \n",
       "  \"/>\n",
       "<polyline clip-path=\"url(#clip952)\" style=\"stroke:#000000; stroke-linecap:round; stroke-linejoin:round; stroke-width:2; stroke-opacity:0.1; fill:none\" points=\"\n",
       "  157.853,677.779 3952.76,677.779 \n",
       "  \"/>\n",
       "<polyline clip-path=\"url(#clip952)\" style=\"stroke:#000000; stroke-linecap:round; stroke-linejoin:round; stroke-width:2; stroke-opacity:0.1; fill:none\" points=\"\n",
       "  157.853,293.722 3952.76,293.722 \n",
       "  \"/>\n",
       "<polyline clip-path=\"url(#clip950)\" style=\"stroke:#000000; stroke-linecap:round; stroke-linejoin:round; stroke-width:4; stroke-opacity:1; fill:none\" points=\"\n",
       "  157.853,1881.88 157.853,47.2441 \n",
       "  \"/>\n",
       "<polyline clip-path=\"url(#clip950)\" style=\"stroke:#000000; stroke-linecap:round; stroke-linejoin:round; stroke-width:4; stroke-opacity:1; fill:none\" points=\"\n",
       "  157.853,1829.95 176.751,1829.95 \n",
       "  \"/>\n",
       "<polyline clip-path=\"url(#clip950)\" style=\"stroke:#000000; stroke-linecap:round; stroke-linejoin:round; stroke-width:4; stroke-opacity:1; fill:none\" points=\"\n",
       "  157.853,1445.89 176.751,1445.89 \n",
       "  \"/>\n",
       "<polyline clip-path=\"url(#clip950)\" style=\"stroke:#000000; stroke-linecap:round; stroke-linejoin:round; stroke-width:4; stroke-opacity:1; fill:none\" points=\"\n",
       "  157.853,1061.84 176.751,1061.84 \n",
       "  \"/>\n",
       "<polyline clip-path=\"url(#clip950)\" style=\"stroke:#000000; stroke-linecap:round; stroke-linejoin:round; stroke-width:4; stroke-opacity:1; fill:none\" points=\"\n",
       "  157.853,677.779 176.751,677.779 \n",
       "  \"/>\n",
       "<polyline clip-path=\"url(#clip950)\" style=\"stroke:#000000; stroke-linecap:round; stroke-linejoin:round; stroke-width:4; stroke-opacity:1; fill:none\" points=\"\n",
       "  157.853,293.722 176.751,293.722 \n",
       "  \"/>\n",
       "<path clip-path=\"url(#clip950)\" d=\"M85.9086 1815.75 Q82.2975 1815.75 80.4688 1819.32 Q78.6632 1822.86 78.6632 1829.99 Q78.6632 1837.09 80.4688 1840.66 Q82.2975 1844.2 85.9086 1844.2 Q89.5428 1844.2 91.3483 1840.66 Q93.177 1837.09 93.177 1829.99 Q93.177 1822.86 91.3483 1819.32 Q89.5428 1815.75 85.9086 1815.75 M85.9086 1812.05 Q91.7187 1812.05 94.7743 1816.65 Q97.8529 1821.24 97.8529 1829.99 Q97.8529 1838.71 94.7743 1843.32 Q91.7187 1847.9 85.9086 1847.9 Q80.0984 1847.9 77.0197 1843.32 Q73.9642 1838.71 73.9642 1829.99 Q73.9642 1821.24 77.0197 1816.65 Q80.0984 1812.05 85.9086 1812.05 Z\" fill=\"#000000\" fill-rule=\"evenodd\" fill-opacity=\"1\" /><path clip-path=\"url(#clip950)\" d=\"M46.5569 1459.24 L54.1958 1459.24 L54.1958 1432.87 L45.8856 1434.54 L45.8856 1430.28 L54.1495 1428.61 L58.8254 1428.61 L58.8254 1459.24 L66.4642 1459.24 L66.4642 1463.17 L46.5569 1463.17 L46.5569 1459.24 Z\" fill=\"#000000\" fill-rule=\"evenodd\" fill-opacity=\"1\" /><path clip-path=\"url(#clip950)\" d=\"M85.9086 1431.69 Q82.2975 1431.69 80.4688 1435.26 Q78.6632 1438.8 78.6632 1445.93 Q78.6632 1453.04 80.4688 1456.6 Q82.2975 1460.14 85.9086 1460.14 Q89.5428 1460.14 91.3483 1456.6 Q93.177 1453.04 93.177 1445.93 Q93.177 1438.8 91.3483 1435.26 Q89.5428 1431.69 85.9086 1431.69 M85.9086 1427.99 Q91.7187 1427.99 94.7743 1432.6 Q97.8529 1437.18 97.8529 1445.93 Q97.8529 1454.66 94.7743 1459.26 Q91.7187 1463.85 85.9086 1463.85 Q80.0984 1463.85 77.0197 1459.26 Q73.9642 1454.66 73.9642 1445.93 Q73.9642 1437.18 77.0197 1432.6 Q80.0984 1427.99 85.9086 1427.99 Z\" fill=\"#000000\" fill-rule=\"evenodd\" fill-opacity=\"1\" /><path clip-path=\"url(#clip950)\" d=\"M49.7745 1075.18 L66.0939 1075.18 L66.0939 1079.12 L44.1495 1079.12 L44.1495 1075.18 Q46.8115 1072.43 51.3949 1067.8 Q56.0013 1063.14 57.1819 1061.8 Q59.4272 1059.28 60.3068 1057.54 Q61.2096 1055.78 61.2096 1054.09 Q61.2096 1051.34 59.2652 1049.6 Q57.3439 1047.87 54.2421 1047.87 Q52.043 1047.87 49.5893 1048.63 Q47.1588 1049.39 44.381 1050.95 L44.381 1046.22 Q47.2051 1045.09 49.6588 1044.51 Q52.1124 1043.93 54.1495 1043.93 Q59.5198 1043.93 62.7142 1046.62 Q65.9087 1049.3 65.9087 1053.79 Q65.9087 1055.92 65.0985 1057.84 Q64.3115 1059.74 62.205 1062.33 Q61.6263 1063.01 58.5245 1066.22 Q55.4226 1069.42 49.7745 1075.18 Z\" fill=\"#000000\" fill-rule=\"evenodd\" fill-opacity=\"1\" /><path clip-path=\"url(#clip950)\" d=\"M85.9086 1047.64 Q82.2975 1047.64 80.4688 1051.2 Q78.6632 1054.74 78.6632 1061.87 Q78.6632 1068.98 80.4688 1072.54 Q82.2975 1076.08 85.9086 1076.08 Q89.5428 1076.08 91.3483 1072.54 Q93.177 1068.98 93.177 1061.87 Q93.177 1054.74 91.3483 1051.2 Q89.5428 1047.64 85.9086 1047.64 M85.9086 1043.93 Q91.7187 1043.93 94.7743 1048.54 Q97.8529 1053.12 97.8529 1061.87 Q97.8529 1070.6 94.7743 1075.21 Q91.7187 1079.79 85.9086 1079.79 Q80.0984 1079.79 77.0197 1075.21 Q73.9642 1070.6 73.9642 1061.87 Q73.9642 1053.12 77.0197 1048.54 Q80.0984 1043.93 85.9086 1043.93 Z\" fill=\"#000000\" fill-rule=\"evenodd\" fill-opacity=\"1\" /><path clip-path=\"url(#clip950)\" d=\"M59.9133 676.425 Q63.2698 677.143 65.1448 679.411 Q67.0429 681.68 67.0429 685.013 Q67.0429 690.129 63.5244 692.93 Q60.0059 695.731 53.5245 695.731 Q51.3486 695.731 49.0338 695.291 Q46.7421 694.874 44.2884 694.018 L44.2884 689.504 Q46.2328 690.638 48.5477 691.217 Q50.8625 691.796 53.3856 691.796 Q57.7837 691.796 60.0754 690.06 Q62.3902 688.323 62.3902 685.013 Q62.3902 681.958 60.2374 680.245 Q58.1078 678.509 54.2884 678.509 L50.2606 678.509 L50.2606 674.666 L54.4735 674.666 Q57.9226 674.666 59.7513 673.3 Q61.58 671.911 61.58 669.319 Q61.58 666.657 59.6819 665.245 Q57.8069 663.81 54.2884 663.81 Q52.3671 663.81 50.168 664.226 Q47.969 664.643 45.3301 665.523 L45.3301 661.356 Q47.9921 660.615 50.3069 660.245 Q52.6449 659.874 54.705 659.874 Q60.0291 659.874 63.1309 662.305 Q66.2327 664.712 66.2327 668.833 Q66.2327 671.703 64.5892 673.694 Q62.9457 675.661 59.9133 676.425 Z\" fill=\"#000000\" fill-rule=\"evenodd\" fill-opacity=\"1\" /><path clip-path=\"url(#clip950)\" d=\"M85.9086 663.578 Q82.2975 663.578 80.4688 667.143 Q78.6632 670.685 78.6632 677.814 Q78.6632 684.921 80.4688 688.485 Q82.2975 692.027 85.9086 692.027 Q89.5428 692.027 91.3483 688.485 Q93.177 684.921 93.177 677.814 Q93.177 670.685 91.3483 667.143 Q89.5428 663.578 85.9086 663.578 M85.9086 659.874 Q91.7187 659.874 94.7743 664.481 Q97.8529 669.064 97.8529 677.814 Q97.8529 686.541 94.7743 691.147 Q91.7187 695.731 85.9086 695.731 Q80.0984 695.731 77.0197 691.147 Q73.9642 686.541 73.9642 677.814 Q73.9642 669.064 77.0197 664.481 Q80.0984 659.874 85.9086 659.874 Z\" fill=\"#000000\" fill-rule=\"evenodd\" fill-opacity=\"1\" /><path clip-path=\"url(#clip950)\" d=\"M58.5939 280.516 L46.7884 298.965 L58.5939 298.965 L58.5939 280.516 M57.367 276.442 L63.2466 276.442 L63.2466 298.965 L68.1772 298.965 L68.1772 302.854 L63.2466 302.854 L63.2466 311.002 L58.5939 311.002 L58.5939 302.854 L42.9921 302.854 L42.9921 298.34 L57.367 276.442 Z\" fill=\"#000000\" fill-rule=\"evenodd\" fill-opacity=\"1\" /><path clip-path=\"url(#clip950)\" d=\"M85.9086 279.521 Q82.2975 279.521 80.4688 283.085 Q78.6632 286.627 78.6632 293.757 Q78.6632 300.863 80.4688 304.428 Q82.2975 307.97 85.9086 307.97 Q89.5428 307.97 91.3483 304.428 Q93.177 300.863 93.177 293.757 Q93.177 286.627 91.3483 283.085 Q89.5428 279.521 85.9086 279.521 M85.9086 275.817 Q91.7187 275.817 94.7743 280.423 Q97.8529 285.007 97.8529 293.757 Q97.8529 302.483 94.7743 307.09 Q91.7187 311.673 85.9086 311.673 Q80.0984 311.673 77.0197 307.09 Q73.9642 302.483 73.9642 293.757 Q73.9642 285.007 77.0197 280.423 Q80.0984 275.817 85.9086 275.817 Z\" fill=\"#000000\" fill-rule=\"evenodd\" fill-opacity=\"1\" /><polyline clip-path=\"url(#clip952)\" style=\"stroke:#009af9; stroke-linecap:round; stroke-linejoin:round; stroke-width:4; stroke-opacity:1; fill:none\" points=\"\n",
       "  265.256,1829.95 265.262,1829.95 265.327,1829.95 265.971,1829.93 272.415,1829.6 336.857,1822.54 981.275,1651.36 3845.35,99.1676 \n",
       "  \"/>\n",
       "<circle clip-path=\"url(#clip952)\" cx=\"265.256\" cy=\"1829.95\" r=\"14.4\" fill=\"#e26f46\" fill-rule=\"evenodd\" fill-opacity=\"1\" stroke=\"#000000\" stroke-opacity=\"1\" stroke-width=\"4\"/>\n",
       "<circle clip-path=\"url(#clip952)\" cx=\"265.262\" cy=\"1829.95\" r=\"14.4\" fill=\"#e26f46\" fill-rule=\"evenodd\" fill-opacity=\"1\" stroke=\"#000000\" stroke-opacity=\"1\" stroke-width=\"4\"/>\n",
       "<circle clip-path=\"url(#clip952)\" cx=\"265.327\" cy=\"1829.95\" r=\"14.4\" fill=\"#e26f46\" fill-rule=\"evenodd\" fill-opacity=\"1\" stroke=\"#000000\" stroke-opacity=\"1\" stroke-width=\"4\"/>\n",
       "<circle clip-path=\"url(#clip952)\" cx=\"265.971\" cy=\"1829.93\" r=\"14.4\" fill=\"#e26f46\" fill-rule=\"evenodd\" fill-opacity=\"1\" stroke=\"#000000\" stroke-opacity=\"1\" stroke-width=\"4\"/>\n",
       "<circle clip-path=\"url(#clip952)\" cx=\"272.415\" cy=\"1829.6\" r=\"14.4\" fill=\"#e26f46\" fill-rule=\"evenodd\" fill-opacity=\"1\" stroke=\"#000000\" stroke-opacity=\"1\" stroke-width=\"4\"/>\n",
       "<circle clip-path=\"url(#clip952)\" cx=\"336.857\" cy=\"1822.54\" r=\"14.4\" fill=\"#e26f46\" fill-rule=\"evenodd\" fill-opacity=\"1\" stroke=\"#000000\" stroke-opacity=\"1\" stroke-width=\"4\"/>\n",
       "<circle clip-path=\"url(#clip952)\" cx=\"981.275\" cy=\"1651.36\" r=\"14.4\" fill=\"#e26f46\" fill-rule=\"evenodd\" fill-opacity=\"1\" stroke=\"#000000\" stroke-opacity=\"1\" stroke-width=\"4\"/>\n",
       "<circle clip-path=\"url(#clip952)\" cx=\"3845.35\" cy=\"99.1676\" r=\"14.4\" fill=\"#e26f46\" fill-rule=\"evenodd\" fill-opacity=\"1\" stroke=\"#000000\" stroke-opacity=\"1\" stroke-width=\"4\"/>\n",
       "<path clip-path=\"url(#clip950)\" d=\"\n",
       "M3394.34 263.918 L3826.26 263.918 L3826.26 108.398 L3394.34 108.398  Z\n",
       "  \" fill=\"#ffffff\" fill-rule=\"evenodd\" fill-opacity=\"1\"/>\n",
       "<polyline clip-path=\"url(#clip950)\" style=\"stroke:#000000; stroke-linecap:round; stroke-linejoin:round; stroke-width:4; stroke-opacity:1; fill:none\" points=\"\n",
       "  3394.34,263.918 3826.26,263.918 3826.26,108.398 3394.34,108.398 3394.34,263.918 \n",
       "  \"/>\n",
       "<polyline clip-path=\"url(#clip950)\" style=\"stroke:#009af9; stroke-linecap:round; stroke-linejoin:round; stroke-width:4; stroke-opacity:1; fill:none\" points=\"\n",
       "  3436.5,160.238 3689.5,160.238 \n",
       "  \"/>\n",
       "<path clip-path=\"url(#clip950)\" d=\"M3745.51 179.926 Q3743.7 184.555 3741.99 185.968 Q3740.27 187.38 3737.4 187.38 L3734 187.38 L3734 183.815 L3736.5 183.815 Q3738.26 183.815 3739.23 182.981 Q3740.2 182.148 3741.39 179.046 L3742.15 177.102 L3731.66 151.593 L3736.18 151.593 L3744.28 171.87 L3752.38 151.593 L3756.89 151.593 L3745.51 179.926 Z\" fill=\"#000000\" fill-rule=\"evenodd\" fill-opacity=\"1\" /><path clip-path=\"url(#clip950)\" d=\"M3764.19 173.583 L3771.83 173.583 L3771.83 147.218 L3763.51 148.884 L3763.51 144.625 L3771.78 142.958 L3776.45 142.958 L3776.45 173.583 L3784.09 173.583 L3784.09 177.518 L3764.19 177.518 L3764.19 173.583 Z\" fill=\"#000000\" fill-rule=\"evenodd\" fill-opacity=\"1\" /><circle clip-path=\"url(#clip950)\" cx=\"3563\" cy=\"212.078\" r=\"23.04\" fill=\"#e26f46\" fill-rule=\"evenodd\" fill-opacity=\"1\" stroke=\"#000000\" stroke-opacity=\"1\" stroke-width=\"6.4\"/>\n",
       "<path clip-path=\"url(#clip950)\" d=\"M3745.51 231.766 Q3743.7 236.395 3741.99 237.808 Q3740.27 239.22 3737.4 239.22 L3734 239.22 L3734 235.655 L3736.5 235.655 Q3738.26 235.655 3739.23 234.821 Q3740.2 233.988 3741.39 230.886 L3742.15 228.942 L3731.66 203.433 L3736.18 203.433 L3744.28 223.71 L3752.38 203.433 L3756.89 203.433 L3745.51 231.766 Z\" fill=\"#000000\" fill-rule=\"evenodd\" fill-opacity=\"1\" /><path clip-path=\"url(#clip950)\" d=\"M3767.4 225.423 L3783.72 225.423 L3783.72 229.358 L3761.78 229.358 L3761.78 225.423 Q3764.44 222.669 3769.02 218.039 Q3773.63 213.386 3774.81 212.044 Q3777.06 209.521 3777.94 207.785 Q3778.84 206.025 3778.84 204.335 Q3778.84 201.581 3776.89 199.845 Q3774.97 198.109 3771.87 198.109 Q3769.67 198.109 3767.22 198.873 Q3764.79 199.636 3762.01 201.187 L3762.01 196.465 Q3764.83 195.331 3767.29 194.752 Q3769.74 194.173 3771.78 194.173 Q3777.15 194.173 3780.34 196.859 Q3783.54 199.544 3783.54 204.035 Q3783.54 206.164 3782.73 208.085 Q3781.94 209.984 3779.83 212.576 Q3779.26 213.247 3776.15 216.465 Q3773.05 219.659 3767.4 225.423 Z\" fill=\"#000000\" fill-rule=\"evenodd\" fill-opacity=\"1\" /></svg>\n"
      ]
     },
     "metadata": {},
     "output_type": "display_data"
    }
   ],
   "source": [
    "plot(num,time,size=(1000,500))\n",
    "scatter!(num,time,size=(1000,500))\n",
    "#savefig(\"plot_numvstime.png\") "
   ]
  },
  {
   "cell_type": "code",
   "execution_count": 5,
   "metadata": {},
   "outputs": [
    {
     "data": {
      "text/plain": [
       "list_primes_new (generic function with 1 method)"
      ]
     },
     "metadata": {},
     "output_type": "display_data"
    }
   ],
   "source": [
    "function list_primes_new(lower,upper)\n",
    "    primes = zeros(floor(Int,(upper/(log(upper)) )*(1+1.2762/log(upper)) ))\n",
    "    j = 1\n",
    "    for i=lower:upper\n",
    "        if prime_check(i) == true\n",
    "            #push!(primes,i)\n",
    "            primes[j] = i\n",
    "            j += 1\n",
    "        end\n",
    "    end\n",
    "    #return primes\n",
    "    #return filter(!iszero, primes)\n",
    "end\n",
    "#45.082667 seconds (2 allocations: 23.068 MiB)"
   ]
  },
  {
   "cell_type": "code",
   "execution_count": 23,
   "metadata": {},
   "outputs": [
    {
     "name": "stdout",
     "output_type": "stream",
     "text": [
      " 12.116091 seconds (16.35 M allocations: 293.739 MiB, 0.44% gc time)\n"
     ]
    }
   ],
   "source": [
    "@time list_primes_new(1,10^8)"
   ]
  },
  {
   "cell_type": "code",
   "execution_count": 7,
   "metadata": {},
   "outputs": [],
   "source": [
    "using Primes"
   ]
  },
  {
   "attachments": {},
   "cell_type": "markdown",
   "metadata": {},
   "source": [
    "https://github.com/JuliaMath/Primes.jl/blob/master/src/Primes.jl <br/>\n",
    "link to the source code"
   ]
  },
  {
   "attachments": {},
   "cell_type": "markdown",
   "metadata": {},
   "source": [
    "```julia\n",
    "function isprime(n::Integer)\n",
    "    # Small precomputed primes + Miller-Rabin for primality testing:\n",
    "    #     https://en.wikipedia.org/wiki/Miller–Rabin_primality_test\n",
    "    #     https://github.com/JuliaLang/julia/issues/11594\n",
    "    n < 2 && return false\n",
    "    trailing_zeros(n) > 0 && return n==2\n",
    "    if n < N_SMALL_FACTORS\n",
    "        return _min_factor(n) == n\n",
    "    end\n",
    "    for m in (3, 5, 7, 11, 13, 17, 19, 23)\n",
    "        n % m == 0 && return false\n",
    "    end\n",
    "    s = trailing_zeros(n - 1)\n",
    "    d = (n - 1) >>> s\n",
    "    for a in witnesses(n)::Tuple{Vararg{Int}}\n",
    "        x = powermod(a, d, n)\n",
    "        x == 1 && continue\n",
    "        t = s\n",
    "        while x != n - 1\n",
    "            (t -= 1) ≤ 0 && return false\n",
    "            x = oftype(n, widemul(x, x) % n)\n",
    "            x == 1 && return false\n",
    "        end\n",
    "    end\n",
    "    return true\n",
    "end\n",
    "```\n"
   ]
  },
  {
   "cell_type": "code",
   "execution_count": 10,
   "metadata": {},
   "outputs": [
    {
     "data": {
      "text/plain": [
       "list_primes_new (generic function with 1 method)"
      ]
     },
     "metadata": {},
     "output_type": "display_data"
    }
   ],
   "source": [
    "function list_primes_new(lower,upper)\n",
    "    primes = zeros(floor(Int,(upper/(log(upper)) )*(1+1.2762/log(upper)) ))\n",
    "    j = 1\n",
    "    for i=lower:upper\n",
    "        if isprime(i) == true\n",
    "            primes[j] = i\n",
    "            j += 1\n",
    "        end\n",
    "    end\n",
    "    #return primes\n",
    "    #return filter(!iszero, primes)\n",
    "end\n",
    "#5.771016 seconds (8.17 M allocations: 147.712 MiB, 0.06% gc time)"
   ]
  },
  {
   "cell_type": "code",
   "execution_count": 24,
   "metadata": {},
   "outputs": [
    {
     "data": {
      "text/plain": [
       "5804784-element Vector{Float64}:\n",
       " 0.0\n",
       " 0.0\n",
       " 0.0\n",
       " 0.0\n",
       " 0.0\n",
       " 0.0\n",
       " 0.0\n",
       " 0.0\n",
       " 0.0\n",
       " 0.0\n",
       " ⋮\n",
       " 0.0\n",
       " 0.0\n",
       " 0.0\n",
       " 0.0\n",
       " 0.0\n",
       " 0.0\n",
       " 0.0\n",
       " 0.0\n",
       " 0.0"
      ]
     },
     "metadata": {},
     "output_type": "display_data"
    }
   ],
   "source": [
    "upper = 10^8\n",
    "zeros(floor(Int,(upper/(log(upper)) )*(1+1.2762/log(upper))  ))"
   ]
  },
  {
   "cell_type": "code",
   "execution_count": null,
   "metadata": {},
   "outputs": [],
   "source": []
  }
 ],
 "metadata": {
  "kernelspec": {
   "display_name": "Julia 1.8.5",
   "language": "julia",
   "name": "julia-1.8"
  },
  "language_info": {
   "file_extension": ".jl",
   "mimetype": "application/julia",
   "name": "julia",
   "version": "1.8.5"
  },
  "orig_nbformat": 4
 },
 "nbformat": 4,
 "nbformat_minor": 2
}
