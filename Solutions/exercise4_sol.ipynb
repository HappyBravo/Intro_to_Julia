{
 "cells": [
  {
   "attachments": {},
   "cell_type": "markdown",
   "metadata": {},
   "source": [
    "# 4.1)"
   ]
  },
  {
   "cell_type": "code",
   "execution_count": 1,
   "metadata": {},
   "outputs": [
    {
     "ename": "ArgumentError",
     "evalue": "ArgumentError: Cannot construct range from arguments:\nstart = 100\nstep = nothing\nstop = nothing\nlength = nothing\nTry specifying more arguments.\n",
     "output_type": "error",
     "traceback": [
      "ArgumentError: Cannot construct range from arguments:\n",
      "start = 100\n",
      "step = nothing\n",
      "stop = nothing\n",
      "length = nothing\n",
      "Try specifying more arguments.\n",
      "\n",
      "\n",
      "Stacktrace:\n",
      " [1] range_error(start::Int64, step::Nothing, stop::Nothing, length::Nothing)\n",
      "   @ Base ./range.jl:240\n",
      " [2] _range(start::Int64, step::Nothing, stop::Nothing, len::Nothing)\n",
      "   @ Base ./range.jl:154\n",
      " [3] range(start::Int64; stop::Nothing, length::Nothing, step::Nothing)\n",
      "   @ Base ./range.jl:138\n",
      " [4] range(start::Int64)\n",
      "   @ Base ./range.jl:138\n",
      " [5] top-level scope\n",
      "   @ ~/Julia_tutorial/exercise4_sol.ipynb:1"
     ]
    }
   ],
   "source": [
    "for i in range(100)\n",
    "    print(i^2)\n",
    "end"
   ]
  },
  {
   "attachments": {},
   "cell_type": "markdown",
   "metadata": {},
   "source": [
    "# 4.2) / 4.3)"
   ]
  },
  {
   "cell_type": "code",
   "execution_count": 2,
   "metadata": {},
   "outputs": [
    {
     "data": {
      "text/plain": [
       "Dict{Int64, Int64}()"
      ]
     },
     "metadata": {},
     "output_type": "display_data"
    }
   ],
   "source": [
    "squares_dict = Dict{Int64, Int64}()"
   ]
  },
  {
   "cell_type": "code",
   "execution_count": 3,
   "metadata": {},
   "outputs": [],
   "source": [
    "for i=1:20\n",
    "    squares_dict[i] = i^2\n",
    "end"
   ]
  },
  {
   "cell_type": "code",
   "execution_count": 5,
   "metadata": {},
   "outputs": [
    {
     "data": {
      "text/plain": [
       "Dict{Int64, Int64} with 20 entries:\n",
       "  5  => 25\n",
       "  16 => 256\n",
       "  20 => 400\n",
       "  12 => 144\n",
       "  8  => 64\n",
       "  17 => 289\n",
       "  1  => 1\n",
       "  19 => 361\n",
       "  6  => 36\n",
       "  11 => 121\n",
       "  9  => 81\n",
       "  14 => 196\n",
       "  3  => 9\n",
       "  7  => 49\n",
       "  4  => 16\n",
       "  13 => 169\n",
       "  15 => 225\n",
       "  2  => 4\n",
       "  10 => 100\n",
       "  18 => 324"
      ]
     },
     "metadata": {},
     "output_type": "display_data"
    }
   ],
   "source": [
    "squares_dict"
   ]
  },
  {
   "cell_type": "code",
   "execution_count": 4,
   "metadata": {},
   "outputs": [
    {
     "data": {
      "text/plain": [
       "64"
      ]
     },
     "metadata": {},
     "output_type": "display_data"
    }
   ],
   "source": [
    "squares_dict[8]"
   ]
  }
 ],
 "metadata": {
  "kernelspec": {
   "display_name": "Julia 1.8.5",
   "language": "julia",
   "name": "julia-1.8"
  },
  "language_info": {
   "file_extension": ".jl",
   "mimetype": "application/julia",
   "name": "julia",
   "version": "1.8.5"
  },
  "orig_nbformat": 4,
  "vscode": {
   "interpreter": {
    "hash": "c6925f325ef2b9ef9a1676fd69fdc70cae23921f52e4d5dfaf1187ea8d3d1c7b"
   }
  }
 },
 "nbformat": 4,
 "nbformat_minor": 2
}
